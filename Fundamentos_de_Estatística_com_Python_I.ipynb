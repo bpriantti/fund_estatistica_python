{
  "nbformat": 4,
  "nbformat_minor": 0,
  "metadata": {
    "colab": {
      "name": "Fundamentos de Estatística com Python I.ipynb",
      "provenance": [],
      "toc_visible": true,
      "authorship_tag": "ABX9TyO8hHVEPjp+gOKKtyWXBUqP",
      "include_colab_link": true
    },
    "kernelspec": {
      "name": "python3",
      "display_name": "Python 3"
    },
    "language_info": {
      "name": "python"
    }
  },
  "cells": [
    {
      "cell_type": "markdown",
      "metadata": {
        "id": "view-in-github",
        "colab_type": "text"
      },
      "source": [
        "<a href=\"https://colab.research.google.com/github/bpriantti/Fundamentos_de_Estatistica_com_Python/blob/main/Fundamentos_de_Estat%C3%ADstica_com_Python_I.ipynb\" target=\"_parent\"><img src=\"https://colab.research.google.com/assets/colab-badge.svg\" alt=\"Open In Colab\"/></a>"
      ]
    },
    {
      "cell_type": "markdown",
      "source": [
        "# Fundamentos de Estatistica com Python I\n",
        "____\n",
        "\n",
        "__Objetivo:__   \n",
        "\n",
        "O presente repositório visa abordar de forma autoexplicativa e orientada os principais métodos de Estatística Básica utilizando a linguagem python, sendo assim um guia para a programação na linguagem servindo também como repositório para esclarecimento de dúvidas durante o desenvolvimento\n",
        "\n",
        "__Autor:__  \n",
        "   - Bruno Priantti.\n",
        "    \n",
        "__Contato:__  \n",
        "  - b.priantti@outlook.com\n",
        "\n",
        "__Encontre-me:__  \n",
        "   -  https://www.linkedin.com/in/bpriantti/  \n",
        "   -  https://github.com/bpriantti\n",
        "   -  https://www.instagram.com/brunopriantti/\n",
        "   \n",
        "___"
      ],
      "metadata": {
        "id": "AHLW2luJDK_c"
      }
    },
    {
      "cell_type": "markdown",
      "source": [
        "## Definição:\n",
        "\n",
        "A Estatística é um conjunto de técnicas úteis para a tomada de decisão sobre um processo ou população, baseada na análise da informação \n",
        "contida em uma amostra desta população.  \n",
        "A Estatística é uma ciência que oferece uma coleção de métodos para planejar experimentos e levantamentos \n",
        "para obter dados, organizar, resumir, analisar, interpretar dados e deles extrair conhecimento.   \n",
        "Deste modo, a Estatística contribui para que dados gerem conhecimento e, como tal, deve ter como objetivo não só a produção de dados, como também a interpretação de dados já existentes, utilizando a combinação de gráficos, tabelas e medidas numéricas que permitam interpretar o que esses \n",
        "dados significam."
      ],
      "metadata": {
        "id": "KarTKv9eETKB"
      }
    },
    {
      "cell_type": "markdown",
      "source": [
        "___\n",
        "\n",
        "\n",
        "Passado essa breve definicao de estatistica e principalmente que agora ja entendemos a sua importancia, vamos inicialmente entrar com o conceito de análise de dados e ciência de dados, estes conceitos estão amplamente sendo utilizados hoje, mas precisamos esclarecer e resumir que no final tudo se resume a matematica-estatisca ligada a computação, entao torna-se fundamental entender os conceitos básicos:\n",
        "\n",
        "__Vamos Abordar:__\n",
        "\n",
        "- Tipos de Variáveis.\n",
        "- Distribuições de frequência.\n",
        "- Medidas de posição.\n",
        "- Medidas de dispersão.\n",
        "- Quartils Máximos e Mínimos.\n",
        "- Boxplots e Outliers.\n",
        "- Gráficos de simetria.\n",
        "- Coeficiente de Correlação de Pearson.\n"
      ],
      "metadata": {
        "id": "LdCBjivwEgiw"
      }
    },
    {
      "cell_type": "markdown",
      "source": [
        "____\n",
        "## Tipos de Variáveis."
      ],
      "metadata": {
        "id": "Hi6YB1WQG-cI"
      }
    },
    {
      "cell_type": "markdown",
      "source": [
        "___\n",
        "#### 1.Definição:\n",
        "\n",
        "Podemos definir variavel em estatistica como um objeto de estudo que é pode ser expressa uma classificação ou uma medida, uma quantidade que se altera em cada caso ou unidade de estudo ou uma categoria que se altera em subcategorias.\n",
        "\n",
        "__Ficou complexo? Vamos simplificar:__\n",
        "\n",
        "Definimos variável como um objeto de estudo que como o nome diz 'varia', esse pode ser um valor numérico ou categoria. \n",
        "\n",
        "Basicamente existem dois tipos de variáveis, estes são:\n",
        "\n",
        "- Qualitativas.\n",
        "- Quantitativas.\n"
      ],
      "metadata": {
        "id": "BsSTEZqvHN6n"
      }
    },
    {
      "cell_type": "markdown",
      "source": [
        "___\n",
        "#### 2.Variáveis Qualitativas:\n",
        "\n",
        "Definimos como variáveis qualitativas aquelas que expressão categorias ou estados, existem dois tipos de varaiveis qualitativas, __nominal__ e __ordinal__.\n",
        "\n",
        "Variaveis qualitativas nominais expressam valores onde não existe ordenação, basicamente são categorias sem ordenação previa, por exemplo:\n",
        "\n",
        "- Nome \n",
        "- Cidade \n",
        "- Estado\n",
        "\n",
        "Variáveis Qualitativas ordinais, estas já possuem um tipo de ordenação por exemplo, \n",
        "  \n",
        "- baixo, medio, alto.\n",
        "- frio, morno, quente.\n",
        "- amargo, meio doce, muito doce.\n",
        "\n",
        "Também temos em especiais variáveis de estado, chamadas dicotômicas em que armazenam dois valores de estado, apenas, como\n",
        "-Alto, baixo\n",
        "-Frio, quente\n",
        "-Ligado, desligado\n",
        "\n",
        "Agora, vamos para os códigos:\n",
        "\n",
        "para facilitar a transmissão de informações vamos utilizar alguns datasets de exemplo: "
      ],
      "metadata": {
        "id": "ujkKMEi4JJ6U"
      }
    },
    {
      "cell_type": "code",
      "source": [
        "#importando bibliotecas:\n",
        "import pandas as pd\n",
        "import seaborn as sns\n",
        "import matplotlib.pyplot as plt\n",
        "\n",
        "#realizando o load de um dataset da seaborn\n",
        "data = sns.load_dataset('tips')\n",
        "\n",
        "#visualizando e inspecionando o dataset\n",
        "type(data)\n",
        "\n",
        "data.head()"
      ],
      "metadata": {
        "colab": {
          "base_uri": "https://localhost:8080/",
          "height": 206
        },
        "id": "I1GPX_1lES2q",
        "outputId": "273bde75-80d0-46df-a2e0-5ed26ca96a3b"
      },
      "execution_count": 1,
      "outputs": [
        {
          "output_type": "execute_result",
          "data": {
            "text/plain": [
              "   total_bill   tip     sex smoker  day    time  size\n",
              "0       16.99  1.01  Female     No  Sun  Dinner     2\n",
              "1       10.34  1.66    Male     No  Sun  Dinner     3\n",
              "2       21.01  3.50    Male     No  Sun  Dinner     3\n",
              "3       23.68  3.31    Male     No  Sun  Dinner     2\n",
              "4       24.59  3.61  Female     No  Sun  Dinner     4"
            ],
            "text/html": [
              "\n",
              "  <div id=\"df-fc308cef-c21b-4a5b-99eb-65e4cb29d7e1\">\n",
              "    <div class=\"colab-df-container\">\n",
              "      <div>\n",
              "<style scoped>\n",
              "    .dataframe tbody tr th:only-of-type {\n",
              "        vertical-align: middle;\n",
              "    }\n",
              "\n",
              "    .dataframe tbody tr th {\n",
              "        vertical-align: top;\n",
              "    }\n",
              "\n",
              "    .dataframe thead th {\n",
              "        text-align: right;\n",
              "    }\n",
              "</style>\n",
              "<table border=\"1\" class=\"dataframe\">\n",
              "  <thead>\n",
              "    <tr style=\"text-align: right;\">\n",
              "      <th></th>\n",
              "      <th>total_bill</th>\n",
              "      <th>tip</th>\n",
              "      <th>sex</th>\n",
              "      <th>smoker</th>\n",
              "      <th>day</th>\n",
              "      <th>time</th>\n",
              "      <th>size</th>\n",
              "    </tr>\n",
              "  </thead>\n",
              "  <tbody>\n",
              "    <tr>\n",
              "      <th>0</th>\n",
              "      <td>16.99</td>\n",
              "      <td>1.01</td>\n",
              "      <td>Female</td>\n",
              "      <td>No</td>\n",
              "      <td>Sun</td>\n",
              "      <td>Dinner</td>\n",
              "      <td>2</td>\n",
              "    </tr>\n",
              "    <tr>\n",
              "      <th>1</th>\n",
              "      <td>10.34</td>\n",
              "      <td>1.66</td>\n",
              "      <td>Male</td>\n",
              "      <td>No</td>\n",
              "      <td>Sun</td>\n",
              "      <td>Dinner</td>\n",
              "      <td>3</td>\n",
              "    </tr>\n",
              "    <tr>\n",
              "      <th>2</th>\n",
              "      <td>21.01</td>\n",
              "      <td>3.50</td>\n",
              "      <td>Male</td>\n",
              "      <td>No</td>\n",
              "      <td>Sun</td>\n",
              "      <td>Dinner</td>\n",
              "      <td>3</td>\n",
              "    </tr>\n",
              "    <tr>\n",
              "      <th>3</th>\n",
              "      <td>23.68</td>\n",
              "      <td>3.31</td>\n",
              "      <td>Male</td>\n",
              "      <td>No</td>\n",
              "      <td>Sun</td>\n",
              "      <td>Dinner</td>\n",
              "      <td>2</td>\n",
              "    </tr>\n",
              "    <tr>\n",
              "      <th>4</th>\n",
              "      <td>24.59</td>\n",
              "      <td>3.61</td>\n",
              "      <td>Female</td>\n",
              "      <td>No</td>\n",
              "      <td>Sun</td>\n",
              "      <td>Dinner</td>\n",
              "      <td>4</td>\n",
              "    </tr>\n",
              "  </tbody>\n",
              "</table>\n",
              "</div>\n",
              "      <button class=\"colab-df-convert\" onclick=\"convertToInteractive('df-fc308cef-c21b-4a5b-99eb-65e4cb29d7e1')\"\n",
              "              title=\"Convert this dataframe to an interactive table.\"\n",
              "              style=\"display:none;\">\n",
              "        \n",
              "  <svg xmlns=\"http://www.w3.org/2000/svg\" height=\"24px\"viewBox=\"0 0 24 24\"\n",
              "       width=\"24px\">\n",
              "    <path d=\"M0 0h24v24H0V0z\" fill=\"none\"/>\n",
              "    <path d=\"M18.56 5.44l.94 2.06.94-2.06 2.06-.94-2.06-.94-.94-2.06-.94 2.06-2.06.94zm-11 1L8.5 8.5l.94-2.06 2.06-.94-2.06-.94L8.5 2.5l-.94 2.06-2.06.94zm10 10l.94 2.06.94-2.06 2.06-.94-2.06-.94-.94-2.06-.94 2.06-2.06.94z\"/><path d=\"M17.41 7.96l-1.37-1.37c-.4-.4-.92-.59-1.43-.59-.52 0-1.04.2-1.43.59L10.3 9.45l-7.72 7.72c-.78.78-.78 2.05 0 2.83L4 21.41c.39.39.9.59 1.41.59.51 0 1.02-.2 1.41-.59l7.78-7.78 2.81-2.81c.8-.78.8-2.07 0-2.86zM5.41 20L4 18.59l7.72-7.72 1.47 1.35L5.41 20z\"/>\n",
              "  </svg>\n",
              "      </button>\n",
              "      \n",
              "  <style>\n",
              "    .colab-df-container {\n",
              "      display:flex;\n",
              "      flex-wrap:wrap;\n",
              "      gap: 12px;\n",
              "    }\n",
              "\n",
              "    .colab-df-convert {\n",
              "      background-color: #E8F0FE;\n",
              "      border: none;\n",
              "      border-radius: 50%;\n",
              "      cursor: pointer;\n",
              "      display: none;\n",
              "      fill: #1967D2;\n",
              "      height: 32px;\n",
              "      padding: 0 0 0 0;\n",
              "      width: 32px;\n",
              "    }\n",
              "\n",
              "    .colab-df-convert:hover {\n",
              "      background-color: #E2EBFA;\n",
              "      box-shadow: 0px 1px 2px rgba(60, 64, 67, 0.3), 0px 1px 3px 1px rgba(60, 64, 67, 0.15);\n",
              "      fill: #174EA6;\n",
              "    }\n",
              "\n",
              "    [theme=dark] .colab-df-convert {\n",
              "      background-color: #3B4455;\n",
              "      fill: #D2E3FC;\n",
              "    }\n",
              "\n",
              "    [theme=dark] .colab-df-convert:hover {\n",
              "      background-color: #434B5C;\n",
              "      box-shadow: 0px 1px 3px 1px rgba(0, 0, 0, 0.15);\n",
              "      filter: drop-shadow(0px 1px 2px rgba(0, 0, 0, 0.3));\n",
              "      fill: #FFFFFF;\n",
              "    }\n",
              "  </style>\n",
              "\n",
              "      <script>\n",
              "        const buttonEl =\n",
              "          document.querySelector('#df-fc308cef-c21b-4a5b-99eb-65e4cb29d7e1 button.colab-df-convert');\n",
              "        buttonEl.style.display =\n",
              "          google.colab.kernel.accessAllowed ? 'block' : 'none';\n",
              "\n",
              "        async function convertToInteractive(key) {\n",
              "          const element = document.querySelector('#df-fc308cef-c21b-4a5b-99eb-65e4cb29d7e1');\n",
              "          const dataTable =\n",
              "            await google.colab.kernel.invokeFunction('convertToInteractive',\n",
              "                                                     [key], {});\n",
              "          if (!dataTable) return;\n",
              "\n",
              "          const docLinkHtml = 'Like what you see? Visit the ' +\n",
              "            '<a target=\"_blank\" href=https://colab.research.google.com/notebooks/data_table.ipynb>data table notebook</a>'\n",
              "            + ' to learn more about interactive tables.';\n",
              "          element.innerHTML = '';\n",
              "          dataTable['output_type'] = 'display_data';\n",
              "          await google.colab.output.renderOutput(dataTable, element);\n",
              "          const docLink = document.createElement('div');\n",
              "          docLink.innerHTML = docLinkHtml;\n",
              "          element.appendChild(docLink);\n",
              "        }\n",
              "      </script>\n",
              "    </div>\n",
              "  </div>\n",
              "  "
            ]
          },
          "metadata": {},
          "execution_count": 1
        }
      ]
    },
    {
      "cell_type": "code",
      "source": [
        "#vamos utilizar agora o comando .info()\n",
        "data.info()"
      ],
      "metadata": {
        "colab": {
          "base_uri": "https://localhost:8080/"
        },
        "id": "lazKHEn2DtN6",
        "outputId": "446092ca-1a5b-4054-d339-141233586adc"
      },
      "execution_count": 2,
      "outputs": [
        {
          "output_type": "stream",
          "name": "stdout",
          "text": [
            "<class 'pandas.core.frame.DataFrame'>\n",
            "RangeIndex: 244 entries, 0 to 243\n",
            "Data columns (total 7 columns):\n",
            " #   Column      Non-Null Count  Dtype   \n",
            "---  ------      --------------  -----   \n",
            " 0   total_bill  244 non-null    float64 \n",
            " 1   tip         244 non-null    float64 \n",
            " 2   sex         244 non-null    category\n",
            " 3   smoker      244 non-null    category\n",
            " 4   day         244 non-null    category\n",
            " 5   time        244 non-null    category\n",
            " 6   size        244 non-null    int64   \n",
            "dtypes: category(4), float64(2), int64(1)\n",
            "memory usage: 7.4 KB\n"
          ]
        }
      ]
    },
    {
      "cell_type": "markdown",
      "source": [
        "Como é possivel visualizar, a coluna Dtype, temos algumas variáveis categoricas e as quantitativas estao espressas em inteiros ou em floats.\n",
        "\n",
        "Realizando o link com os códigos de data visualization, podemos visualizar com graficos de barra, nossas variáveis categóricas e com gráficos de linha nossas variáveis quantitativas, vamos fazer isso:"
      ],
      "metadata": {
        "id": "gneEYSN9MOI9"
      }
    },
    {
      "cell_type": "code",
      "source": [
        "#visualizando variaveis qualitativas:\n",
        "\n",
        "#qual categoria de genero mais consome em um restaurante, vamos visualziar:\n",
        "total_tip_gender = data[['total_bill','sex']].groupby('sex').agg('sum')\n",
        "\n",
        "#para resetar o index do dataframe\n",
        "total_tip_gender = total_tip_gender.reset_index()\n",
        "\n",
        "#visualizando \n",
        "total_tip_gender"
      ],
      "metadata": {
        "colab": {
          "base_uri": "https://localhost:8080/",
          "height": 112
        },
        "id": "DHqtkNrhNPqh",
        "outputId": "9be5094e-dc20-41fd-b280-99b3804fa0d3"
      },
      "execution_count": 3,
      "outputs": [
        {
          "output_type": "execute_result",
          "data": {
            "text/plain": [
              "      sex  total_bill\n",
              "0    Male     3256.82\n",
              "1  Female     1570.95"
            ],
            "text/html": [
              "\n",
              "  <div id=\"df-919e6bc0-9c1e-47cb-bdcb-a7564ad9d5b8\">\n",
              "    <div class=\"colab-df-container\">\n",
              "      <div>\n",
              "<style scoped>\n",
              "    .dataframe tbody tr th:only-of-type {\n",
              "        vertical-align: middle;\n",
              "    }\n",
              "\n",
              "    .dataframe tbody tr th {\n",
              "        vertical-align: top;\n",
              "    }\n",
              "\n",
              "    .dataframe thead th {\n",
              "        text-align: right;\n",
              "    }\n",
              "</style>\n",
              "<table border=\"1\" class=\"dataframe\">\n",
              "  <thead>\n",
              "    <tr style=\"text-align: right;\">\n",
              "      <th></th>\n",
              "      <th>sex</th>\n",
              "      <th>total_bill</th>\n",
              "    </tr>\n",
              "  </thead>\n",
              "  <tbody>\n",
              "    <tr>\n",
              "      <th>0</th>\n",
              "      <td>Male</td>\n",
              "      <td>3256.82</td>\n",
              "    </tr>\n",
              "    <tr>\n",
              "      <th>1</th>\n",
              "      <td>Female</td>\n",
              "      <td>1570.95</td>\n",
              "    </tr>\n",
              "  </tbody>\n",
              "</table>\n",
              "</div>\n",
              "      <button class=\"colab-df-convert\" onclick=\"convertToInteractive('df-919e6bc0-9c1e-47cb-bdcb-a7564ad9d5b8')\"\n",
              "              title=\"Convert this dataframe to an interactive table.\"\n",
              "              style=\"display:none;\">\n",
              "        \n",
              "  <svg xmlns=\"http://www.w3.org/2000/svg\" height=\"24px\"viewBox=\"0 0 24 24\"\n",
              "       width=\"24px\">\n",
              "    <path d=\"M0 0h24v24H0V0z\" fill=\"none\"/>\n",
              "    <path d=\"M18.56 5.44l.94 2.06.94-2.06 2.06-.94-2.06-.94-.94-2.06-.94 2.06-2.06.94zm-11 1L8.5 8.5l.94-2.06 2.06-.94-2.06-.94L8.5 2.5l-.94 2.06-2.06.94zm10 10l.94 2.06.94-2.06 2.06-.94-2.06-.94-.94-2.06-.94 2.06-2.06.94z\"/><path d=\"M17.41 7.96l-1.37-1.37c-.4-.4-.92-.59-1.43-.59-.52 0-1.04.2-1.43.59L10.3 9.45l-7.72 7.72c-.78.78-.78 2.05 0 2.83L4 21.41c.39.39.9.59 1.41.59.51 0 1.02-.2 1.41-.59l7.78-7.78 2.81-2.81c.8-.78.8-2.07 0-2.86zM5.41 20L4 18.59l7.72-7.72 1.47 1.35L5.41 20z\"/>\n",
              "  </svg>\n",
              "      </button>\n",
              "      \n",
              "  <style>\n",
              "    .colab-df-container {\n",
              "      display:flex;\n",
              "      flex-wrap:wrap;\n",
              "      gap: 12px;\n",
              "    }\n",
              "\n",
              "    .colab-df-convert {\n",
              "      background-color: #E8F0FE;\n",
              "      border: none;\n",
              "      border-radius: 50%;\n",
              "      cursor: pointer;\n",
              "      display: none;\n",
              "      fill: #1967D2;\n",
              "      height: 32px;\n",
              "      padding: 0 0 0 0;\n",
              "      width: 32px;\n",
              "    }\n",
              "\n",
              "    .colab-df-convert:hover {\n",
              "      background-color: #E2EBFA;\n",
              "      box-shadow: 0px 1px 2px rgba(60, 64, 67, 0.3), 0px 1px 3px 1px rgba(60, 64, 67, 0.15);\n",
              "      fill: #174EA6;\n",
              "    }\n",
              "\n",
              "    [theme=dark] .colab-df-convert {\n",
              "      background-color: #3B4455;\n",
              "      fill: #D2E3FC;\n",
              "    }\n",
              "\n",
              "    [theme=dark] .colab-df-convert:hover {\n",
              "      background-color: #434B5C;\n",
              "      box-shadow: 0px 1px 3px 1px rgba(0, 0, 0, 0.15);\n",
              "      filter: drop-shadow(0px 1px 2px rgba(0, 0, 0, 0.3));\n",
              "      fill: #FFFFFF;\n",
              "    }\n",
              "  </style>\n",
              "\n",
              "      <script>\n",
              "        const buttonEl =\n",
              "          document.querySelector('#df-919e6bc0-9c1e-47cb-bdcb-a7564ad9d5b8 button.colab-df-convert');\n",
              "        buttonEl.style.display =\n",
              "          google.colab.kernel.accessAllowed ? 'block' : 'none';\n",
              "\n",
              "        async function convertToInteractive(key) {\n",
              "          const element = document.querySelector('#df-919e6bc0-9c1e-47cb-bdcb-a7564ad9d5b8');\n",
              "          const dataTable =\n",
              "            await google.colab.kernel.invokeFunction('convertToInteractive',\n",
              "                                                     [key], {});\n",
              "          if (!dataTable) return;\n",
              "\n",
              "          const docLinkHtml = 'Like what you see? Visit the ' +\n",
              "            '<a target=\"_blank\" href=https://colab.research.google.com/notebooks/data_table.ipynb>data table notebook</a>'\n",
              "            + ' to learn more about interactive tables.';\n",
              "          element.innerHTML = '';\n",
              "          dataTable['output_type'] = 'display_data';\n",
              "          await google.colab.output.renderOutput(dataTable, element);\n",
              "          const docLink = document.createElement('div');\n",
              "          docLink.innerHTML = docLinkHtml;\n",
              "          element.appendChild(docLink);\n",
              "        }\n",
              "      </script>\n",
              "    </div>\n",
              "  </div>\n",
              "  "
            ]
          },
          "metadata": {},
          "execution_count": 3
        }
      ]
    },
    {
      "cell_type": "code",
      "source": [
        "#vamos visualizar e tirar alguns insights:\n",
        "ax = sns.barplot(x = 'sex', y='total_bill', data=total_tip_gender)\n",
        "ax"
      ],
      "metadata": {
        "colab": {
          "base_uri": "https://localhost:8080/",
          "height": 296
        },
        "id": "ULyR9923OWxX",
        "outputId": "e76182bd-c3cd-43f2-fe04-78f2a0df2da6"
      },
      "execution_count": 4,
      "outputs": [
        {
          "output_type": "execute_result",
          "data": {
            "text/plain": [
              "<matplotlib.axes._subplots.AxesSubplot at 0x7fe932037f90>"
            ]
          },
          "metadata": {},
          "execution_count": 4
        },
        {
          "output_type": "display_data",
          "data": {
            "text/plain": [
              "<Figure size 432x288 with 1 Axes>"
            ],
            "image/png": "[encoded data removed]"
          },
          "metadata": {
            "needs_background": "light"
          }
        }
      ]
    },
    {
      "cell_type": "markdown",
      "source": [
        "podemos visualizar que normalmente a conta dos homens é superior a das mulheres neste exemplo aqui."
      ],
      "metadata": {
        "id": "7ISpjf_vVZDt"
      }
    },
    {
      "cell_type": "markdown",
      "source": [
        "____\n",
        "### 3.Variáveis Quantitativas:\n",
        "\n",
        "Definimos como variáveis quantitativas aquelas que expressão valores \n",
        "numéricos, existem dois tipos de variáveis quantitativas, __discretas__ e __contínuas__.\n",
        "\n",
        "Resumindo de forma simples, variáveis quantitativas discretas, são separadas em amostras por exemplo intesidade de calor medida de uma em uma hora, ou então o número de pessoas que entram em uma loja por ano.\n",
        "\n",
        "Ja as quantitativas contínuas, são definidas em todos os valores de tempo, na prática podemos, ter tempos muito curtos, mas dificilmente conseguiremos algum fenômeno que é medido sem um intervalor de amostragem.\n",
        "\n",
        "para facilitar a transmissão de informações vamos utilizar alguns datasets de exemplo:\n",
        "\n"
      ],
      "metadata": {
        "id": "jxToMUCQV3BV"
      }
    },
    {
      "cell_type": "markdown",
      "source": [
        ""
      ],
      "metadata": {
        "id": "vqd64EioWFgq"
      }
    },
    {
      "cell_type": "code",
      "source": [
        "#importando bibliotecas:\n",
        "import pandas as pd\n",
        "import seaborn as sns\n",
        "import matplotlib.pyplot as plt\n",
        "\n",
        "#realizando o load de um dataset da seaborn\n",
        "data = sns.load_dataset('flights')\n",
        "\n",
        "#visualizando e inspecionando o dataset\n",
        "type(data)\n",
        "\n",
        "data.head(5)"
      ],
      "metadata": {
        "colab": {
          "base_uri": "https://localhost:8080/",
          "height": 206
        },
        "id": "1C6HNCcTV88c",
        "outputId": "a87613f0-a759-4483-f58f-6fd87ad793d5"
      },
      "execution_count": 5,
      "outputs": [
        {
          "output_type": "execute_result",
          "data": {
            "text/plain": [
              "   year month  passengers\n",
              "0  1949   Jan         112\n",
              "1  1949   Feb         118\n",
              "2  1949   Mar         132\n",
              "3  1949   Apr         129\n",
              "4  1949   May         121"
            ],
            "text/html": [
              "\n",
              "  <div id=\"df-cc8d2209-d0dd-4fe7-ae10-4eb00bbea4fd\">\n",
              "    <div class=\"colab-df-container\">\n",
              "      <div>\n",
              "<style scoped>\n",
              "    .dataframe tbody tr th:only-of-type {\n",
              "        vertical-align: middle;\n",
              "    }\n",
              "\n",
              "    .dataframe tbody tr th {\n",
              "        vertical-align: top;\n",
              "    }\n",
              "\n",
              "    .dataframe thead th {\n",
              "        text-align: right;\n",
              "    }\n",
              "</style>\n",
              "<table border=\"1\" class=\"dataframe\">\n",
              "  <thead>\n",
              "    <tr style=\"text-align: right;\">\n",
              "      <th></th>\n",
              "      <th>year</th>\n",
              "      <th>month</th>\n",
              "      <th>passengers</th>\n",
              "    </tr>\n",
              "  </thead>\n",
              "  <tbody>\n",
              "    <tr>\n",
              "      <th>0</th>\n",
              "      <td>1949</td>\n",
              "      <td>Jan</td>\n",
              "      <td>112</td>\n",
              "    </tr>\n",
              "    <tr>\n",
              "      <th>1</th>\n",
              "      <td>1949</td>\n",
              "      <td>Feb</td>\n",
              "      <td>118</td>\n",
              "    </tr>\n",
              "    <tr>\n",
              "      <th>2</th>\n",
              "      <td>1949</td>\n",
              "      <td>Mar</td>\n",
              "      <td>132</td>\n",
              "    </tr>\n",
              "    <tr>\n",
              "      <th>3</th>\n",
              "      <td>1949</td>\n",
              "      <td>Apr</td>\n",
              "      <td>129</td>\n",
              "    </tr>\n",
              "    <tr>\n",
              "      <th>4</th>\n",
              "      <td>1949</td>\n",
              "      <td>May</td>\n",
              "      <td>121</td>\n",
              "    </tr>\n",
              "  </tbody>\n",
              "</table>\n",
              "</div>\n",
              "      <button class=\"colab-df-convert\" onclick=\"convertToInteractive('df-cc8d2209-d0dd-4fe7-ae10-4eb00bbea4fd')\"\n",
              "              title=\"Convert this dataframe to an interactive table.\"\n",
              "              style=\"display:none;\">\n",
              "        \n",
              "  <svg xmlns=\"http://www.w3.org/2000/svg\" height=\"24px\"viewBox=\"0 0 24 24\"\n",
              "       width=\"24px\">\n",
              "    <path d=\"M0 0h24v24H0V0z\" fill=\"none\"/>\n",
              "    <path d=\"M18.56 5.44l.94 2.06.94-2.06 2.06-.94-2.06-.94-.94-2.06-.94 2.06-2.06.94zm-11 1L8.5 8.5l.94-2.06 2.06-.94-2.06-.94L8.5 2.5l-.94 2.06-2.06.94zm10 10l.94 2.06.94-2.06 2.06-.94-2.06-.94-.94-2.06-.94 2.06-2.06.94z\"/><path d=\"M17.41 7.96l-1.37-1.37c-.4-.4-.92-.59-1.43-.59-.52 0-1.04.2-1.43.59L10.3 9.45l-7.72 7.72c-.78.78-.78 2.05 0 2.83L4 21.41c.39.39.9.59 1.41.59.51 0 1.02-.2 1.41-.59l7.78-7.78 2.81-2.81c.8-.78.8-2.07 0-2.86zM5.41 20L4 18.59l7.72-7.72 1.47 1.35L5.41 20z\"/>\n",
              "  </svg>\n",
              "      </button>\n",
              "      \n",
              "  <style>\n",
              "    .colab-df-container {\n",
              "      display:flex;\n",
              "      flex-wrap:wrap;\n",
              "      gap: 12px;\n",
              "    }\n",
              "\n",
              "    .colab-df-convert {\n",
              "      background-color: #E8F0FE;\n",
              "      border: none;\n",
              "      border-radius: 50%;\n",
              "      cursor: pointer;\n",
              "      display: none;\n",
              "      fill: #1967D2;\n",
              "      height: 32px;\n",
              "      padding: 0 0 0 0;\n",
              "      width: 32px;\n",
              "    }\n",
              "\n",
              "    .colab-df-convert:hover {\n",
              "      background-color: #E2EBFA;\n",
              "      box-shadow: 0px 1px 2px rgba(60, 64, 67, 0.3), 0px 1px 3px 1px rgba(60, 64, 67, 0.15);\n",
              "      fill: #174EA6;\n",
              "    }\n",
              "\n",
              "    [theme=dark] .colab-df-convert {\n",
              "      background-color: #3B4455;\n",
              "      fill: #D2E3FC;\n",
              "    }\n",
              "\n",
              "    [theme=dark] .colab-df-convert:hover {\n",
              "      background-color: #434B5C;\n",
              "      box-shadow: 0px 1px 3px 1px rgba(0, 0, 0, 0.15);\n",
              "      filter: drop-shadow(0px 1px 2px rgba(0, 0, 0, 0.3));\n",
              "      fill: #FFFFFF;\n",
              "    }\n",
              "  </style>\n",
              "\n",
              "      <script>\n",
              "        const buttonEl =\n",
              "          document.querySelector('#df-cc8d2209-d0dd-4fe7-ae10-4eb00bbea4fd button.colab-df-convert');\n",
              "        buttonEl.style.display =\n",
              "          google.colab.kernel.accessAllowed ? 'block' : 'none';\n",
              "\n",
              "        async function convertToInteractive(key) {\n",
              "          const element = document.querySelector('#df-cc8d2209-d0dd-4fe7-ae10-4eb00bbea4fd');\n",
              "          const dataTable =\n",
              "            await google.colab.kernel.invokeFunction('convertToInteractive',\n",
              "                                                     [key], {});\n",
              "          if (!dataTable) return;\n",
              "\n",
              "          const docLinkHtml = 'Like what you see? Visit the ' +\n",
              "            '<a target=\"_blank\" href=https://colab.research.google.com/notebooks/data_table.ipynb>data table notebook</a>'\n",
              "            + ' to learn more about interactive tables.';\n",
              "          element.innerHTML = '';\n",
              "          dataTable['output_type'] = 'display_data';\n",
              "          await google.colab.output.renderOutput(dataTable, element);\n",
              "          const docLink = document.createElement('div');\n",
              "          docLink.innerHTML = docLinkHtml;\n",
              "          element.appendChild(docLink);\n",
              "        }\n",
              "      </script>\n",
              "    </div>\n",
              "  </div>\n",
              "  "
            ]
          },
          "metadata": {},
          "execution_count": 5
        }
      ]
    },
    {
      "cell_type": "code",
      "source": [
        "#pomos visualizar o numero de pasageiros por ano \n",
        "graph = sns.lineplot(y = 'passengers', x = 'year', data = data)"
      ],
      "metadata": {
        "colab": {
          "base_uri": "https://localhost:8080/",
          "height": 279
        },
        "id": "uL228WAfXXW0",
        "outputId": "dadcfbfa-47e0-4c89-b2bf-59f5ca01e63d"
      },
      "execution_count": 6,
      "outputs": [
        {
          "output_type": "display_data",
          "data": {
            "text/plain": [
              "<Figure size 432x288 with 1 Axes>"
            ],
            "image/png": "[encoded data removed]"
          },
          "metadata": {
            "needs_background": "light"
          }
        }
      ]
    },
    {
      "cell_type": "code",
      "source": [
        "#caso queiramos visualizar de forma 'discreta apenas os valores agrupados por ano, podemos fazer:\n",
        "data_1 = data[['year','passengers']].groupby('year').agg('sum')\n",
        "\n",
        "data_1 = data_1.reset_index()\n",
        "\n",
        "data_1"
      ],
      "metadata": {
        "colab": {
          "base_uri": "https://localhost:8080/",
          "height": 426
        },
        "id": "dExj-wHYXzIe",
        "outputId": "ac59477b-a303-44a4-81f5-e0873c8989be"
      },
      "execution_count": 7,
      "outputs": [
        {
          "output_type": "execute_result",
          "data": {
            "text/plain": [
              "    year  passengers\n",
              "0   1949        1520\n",
              "1   1950        1676\n",
              "2   1951        2042\n",
              "3   1952        2364\n",
              "4   1953        2700\n",
              "5   1954        2867\n",
              "6   1955        3408\n",
              "7   1956        3939\n",
              "8   1957        4421\n",
              "9   1958        4572\n",
              "10  1959        5140\n",
              "11  1960        5714"
            ],
            "text/html": [
              "\n",
              "  <div id=\"df-9c30f813-2a0b-40e3-9675-c06aa24c97f7\">\n",
              "    <div class=\"colab-df-container\">\n",
              "      <div>\n",
              "<style scoped>\n",
              "    .dataframe tbody tr th:only-of-type {\n",
              "        vertical-align: middle;\n",
              "    }\n",
              "\n",
              "    .dataframe tbody tr th {\n",
              "        vertical-align: top;\n",
              "    }\n",
              "\n",
              "    .dataframe thead th {\n",
              "        text-align: right;\n",
              "    }\n",
              "</style>\n",
              "<table border=\"1\" class=\"dataframe\">\n",
              "  <thead>\n",
              "    <tr style=\"text-align: right;\">\n",
              "      <th></th>\n",
              "      <th>year</th>\n",
              "      <th>passengers</th>\n",
              "    </tr>\n",
              "  </thead>\n",
              "  <tbody>\n",
              "    <tr>\n",
              "      <th>0</th>\n",
              "      <td>1949</td>\n",
              "      <td>1520</td>\n",
              "    </tr>\n",
              "    <tr>\n",
              "      <th>1</th>\n",
              "      <td>1950</td>\n",
              "      <td>1676</td>\n",
              "    </tr>\n",
              "    <tr>\n",
              "      <th>2</th>\n",
              "      <td>1951</td>\n",
              "      <td>2042</td>\n",
              "    </tr>\n",
              "    <tr>\n",
              "      <th>3</th>\n",
              "      <td>1952</td>\n",
              "      <td>2364</td>\n",
              "    </tr>\n",
              "    <tr>\n",
              "      <th>4</th>\n",
              "      <td>1953</td>\n",
              "      <td>2700</td>\n",
              "    </tr>\n",
              "    <tr>\n",
              "      <th>5</th>\n",
              "      <td>1954</td>\n",
              "      <td>2867</td>\n",
              "    </tr>\n",
              "    <tr>\n",
              "      <th>6</th>\n",
              "      <td>1955</td>\n",
              "      <td>3408</td>\n",
              "    </tr>\n",
              "    <tr>\n",
              "      <th>7</th>\n",
              "      <td>1956</td>\n",
              "      <td>3939</td>\n",
              "    </tr>\n",
              "    <tr>\n",
              "      <th>8</th>\n",
              "      <td>1957</td>\n",
              "      <td>4421</td>\n",
              "    </tr>\n",
              "    <tr>\n",
              "      <th>9</th>\n",
              "      <td>1958</td>\n",
              "      <td>4572</td>\n",
              "    </tr>\n",
              "    <tr>\n",
              "      <th>10</th>\n",
              "      <td>1959</td>\n",
              "      <td>5140</td>\n",
              "    </tr>\n",
              "    <tr>\n",
              "      <th>11</th>\n",
              "      <td>1960</td>\n",
              "      <td>5714</td>\n",
              "    </tr>\n",
              "  </tbody>\n",
              "</table>\n",
              "</div>\n",
              "      <button class=\"colab-df-convert\" onclick=\"convertToInteractive('df-9c30f813-2a0b-40e3-9675-c06aa24c97f7')\"\n",
              "              title=\"Convert this dataframe to an interactive table.\"\n",
              "              style=\"display:none;\">\n",
              "        \n",
              "  <svg xmlns=\"http://www.w3.org/2000/svg\" height=\"24px\"viewBox=\"0 0 24 24\"\n",
              "       width=\"24px\">\n",
              "    <path d=\"M0 0h24v24H0V0z\" fill=\"none\"/>\n",
              "    <path d=\"M18.56 5.44l.94 2.06.94-2.06 2.06-.94-2.06-.94-.94-2.06-.94 2.06-2.06.94zm-11 1L8.5 8.5l.94-2.06 2.06-.94-2.06-.94L8.5 2.5l-.94 2.06-2.06.94zm10 10l.94 2.06.94-2.06 2.06-.94-2.06-.94-.94-2.06-.94 2.06-2.06.94z\"/><path d=\"M17.41 7.96l-1.37-1.37c-.4-.4-.92-.59-1.43-.59-.52 0-1.04.2-1.43.59L10.3 9.45l-7.72 7.72c-.78.78-.78 2.05 0 2.83L4 21.41c.39.39.9.59 1.41.59.51 0 1.02-.2 1.41-.59l7.78-7.78 2.81-2.81c.8-.78.8-2.07 0-2.86zM5.41 20L4 18.59l7.72-7.72 1.47 1.35L5.41 20z\"/>\n",
              "  </svg>\n",
              "      </button>\n",
              "      \n",
              "  <style>\n",
              "    .colab-df-container {\n",
              "      display:flex;\n",
              "      flex-wrap:wrap;\n",
              "      gap: 12px;\n",
              "    }\n",
              "\n",
              "    .colab-df-convert {\n",
              "      background-color: #E8F0FE;\n",
              "      border: none;\n",
              "      border-radius: 50%;\n",
              "      cursor: pointer;\n",
              "      display: none;\n",
              "      fill: #1967D2;\n",
              "      height: 32px;\n",
              "      padding: 0 0 0 0;\n",
              "      width: 32px;\n",
              "    }\n",
              "\n",
              "    .colab-df-convert:hover {\n",
              "      background-color: #E2EBFA;\n",
              "      box-shadow: 0px 1px 2px rgba(60, 64, 67, 0.3), 0px 1px 3px 1px rgba(60, 64, 67, 0.15);\n",
              "      fill: #174EA6;\n",
              "    }\n",
              "\n",
              "    [theme=dark] .colab-df-convert {\n",
              "      background-color: #3B4455;\n",
              "      fill: #D2E3FC;\n",
              "    }\n",
              "\n",
              "    [theme=dark] .colab-df-convert:hover {\n",
              "      background-color: #434B5C;\n",
              "      box-shadow: 0px 1px 3px 1px rgba(0, 0, 0, 0.15);\n",
              "      filter: drop-shadow(0px 1px 2px rgba(0, 0, 0, 0.3));\n",
              "      fill: #FFFFFF;\n",
              "    }\n",
              "  </style>\n",
              "\n",
              "      <script>\n",
              "        const buttonEl =\n",
              "          document.querySelector('#df-9c30f813-2a0b-40e3-9675-c06aa24c97f7 button.colab-df-convert');\n",
              "        buttonEl.style.display =\n",
              "          google.colab.kernel.accessAllowed ? 'block' : 'none';\n",
              "\n",
              "        async function convertToInteractive(key) {\n",
              "          const element = document.querySelector('#df-9c30f813-2a0b-40e3-9675-c06aa24c97f7');\n",
              "          const dataTable =\n",
              "            await google.colab.kernel.invokeFunction('convertToInteractive',\n",
              "                                                     [key], {});\n",
              "          if (!dataTable) return;\n",
              "\n",
              "          const docLinkHtml = 'Like what you see? Visit the ' +\n",
              "            '<a target=\"_blank\" href=https://colab.research.google.com/notebooks/data_table.ipynb>data table notebook</a>'\n",
              "            + ' to learn more about interactive tables.';\n",
              "          element.innerHTML = '';\n",
              "          dataTable['output_type'] = 'display_data';\n",
              "          await google.colab.output.renderOutput(dataTable, element);\n",
              "          const docLink = document.createElement('div');\n",
              "          docLink.innerHTML = docLinkHtml;\n",
              "          element.appendChild(docLink);\n",
              "        }\n",
              "      </script>\n",
              "    </div>\n",
              "  </div>\n",
              "  "
            ]
          },
          "metadata": {},
          "execution_count": 7
        }
      ]
    },
    {
      "cell_type": "code",
      "source": [
        "#vamos visualizar\n",
        "graph = sns.relplot(data = data_1, x='year',y='passengers')\n",
        "graph"
      ],
      "metadata": {
        "colab": {
          "base_uri": "https://localhost:8080/",
          "height": 386
        },
        "id": "qDHC8PQoYNxH",
        "outputId": "54558c4d-e1a9-4e1a-d151-2c8fdf6dbeee"
      },
      "execution_count": 8,
      "outputs": [
        {
          "output_type": "execute_result",
          "data": {
            "text/plain": [
              "<seaborn.axisgrid.FacetGrid at 0x7fe91862fd50>"
            ]
          },
          "metadata": {},
          "execution_count": 8
        },
        {
          "output_type": "display_data",
          "data": {
            "text/plain": [
              "<Figure size 360x360 with 1 Axes>"
            ],
            "image/png": "[encoded data removed]"
          },
          "metadata": {
            "needs_background": "light"
          }
        }
      ]
    },
    {
      "cell_type": "markdown",
      "source": [
        "Aqui visualizamos de forma agregagada pela soma do numero de passageiros por ano, observa-se que o fenômeno esta em crescimento."
      ],
      "metadata": {
        "id": "YUhjpjjaZXEw"
      }
    },
    {
      "cell_type": "markdown",
      "source": [
        "## Distribuições de Frequência:\n",
        "\n",
        "Em muitos momentos torna-se importante ter em vista as distribuições de frequência, ou seja, o comportamento de uma variável, para isso em estatística temos uma serie de métodos, vamos ver alguns? :)"
      ],
      "metadata": {
        "id": "IS0SGCaraCqP"
      }
    },
    {
      "cell_type": "markdown",
      "source": [
        "### 1.Frequências Relativas e Porcentagens:\n",
        "Frequências relativas e porcentagens se esforçam em obter as informações\n",
        "em porcentagem e apartir deste momento verificar o quanto cada atributo representa daquela porcentagem total.\n",
        "\n",
        "agora vamos aos códigos:\n"
      ],
      "metadata": {
        "id": "ollmuKrxjlwT"
      }
    },
    {
      "cell_type": "code",
      "source": [
        "#importando bibliotecas:\n",
        "import pandas as pd\n",
        "import seaborn as sns\n",
        "import matplotlib.pyplot as plt\n",
        "\n",
        "#realizando o load de um dataset da seaborn\n",
        "data = sns.load_dataset('tips')\n",
        "\n",
        "#visualizando e inspecionando o dataset\n",
        "type(data)\n",
        "\n",
        "data.head()"
      ],
      "metadata": {
        "colab": {
          "base_uri": "https://localhost:8080/",
          "height": 206
        },
        "id": "6eqmp41JZFcE",
        "outputId": "1ac14bd3-dac3-45a4-e696-709831794146"
      },
      "execution_count": 9,
      "outputs": [
        {
          "output_type": "execute_result",
          "data": {
            "text/plain": [
              "   total_bill   tip     sex smoker  day    time  size\n",
              "0       16.99  1.01  Female     No  Sun  Dinner     2\n",
              "1       10.34  1.66    Male     No  Sun  Dinner     3\n",
              "2       21.01  3.50    Male     No  Sun  Dinner     3\n",
              "3       23.68  3.31    Male     No  Sun  Dinner     2\n",
              "4       24.59  3.61  Female     No  Sun  Dinner     4"
            ],
            "text/html": [
              "\n",
              "  <div id=\"df-8143e0ad-21d4-49e9-88ca-5924cb955998\">\n",
              "    <div class=\"colab-df-container\">\n",
              "      <div>\n",
              "<style scoped>\n",
              "    .dataframe tbody tr th:only-of-type {\n",
              "        vertical-align: middle;\n",
              "    }\n",
              "\n",
              "    .dataframe tbody tr th {\n",
              "        vertical-align: top;\n",
              "    }\n",
              "\n",
              "    .dataframe thead th {\n",
              "        text-align: right;\n",
              "    }\n",
              "</style>\n",
              "<table border=\"1\" class=\"dataframe\">\n",
              "  <thead>\n",
              "    <tr style=\"text-align: right;\">\n",
              "      <th></th>\n",
              "      <th>total_bill</th>\n",
              "      <th>tip</th>\n",
              "      <th>sex</th>\n",
              "      <th>smoker</th>\n",
              "      <th>day</th>\n",
              "      <th>time</th>\n",
              "      <th>size</th>\n",
              "    </tr>\n",
              "  </thead>\n",
              "  <tbody>\n",
              "    <tr>\n",
              "      <th>0</th>\n",
              "      <td>16.99</td>\n",
              "      <td>1.01</td>\n",
              "      <td>Female</td>\n",
              "      <td>No</td>\n",
              "      <td>Sun</td>\n",
              "      <td>Dinner</td>\n",
              "      <td>2</td>\n",
              "    </tr>\n",
              "    <tr>\n",
              "      <th>1</th>\n",
              "      <td>10.34</td>\n",
              "      <td>1.66</td>\n",
              "      <td>Male</td>\n",
              "      <td>No</td>\n",
              "      <td>Sun</td>\n",
              "      <td>Dinner</td>\n",
              "      <td>3</td>\n",
              "    </tr>\n",
              "    <tr>\n",
              "      <th>2</th>\n",
              "      <td>21.01</td>\n",
              "      <td>3.50</td>\n",
              "      <td>Male</td>\n",
              "      <td>No</td>\n",
              "      <td>Sun</td>\n",
              "      <td>Dinner</td>\n",
              "      <td>3</td>\n",
              "    </tr>\n",
              "    <tr>\n",
              "      <th>3</th>\n",
              "      <td>23.68</td>\n",
              "      <td>3.31</td>\n",
              "      <td>Male</td>\n",
              "      <td>No</td>\n",
              "      <td>Sun</td>\n",
              "      <td>Dinner</td>\n",
              "      <td>2</td>\n",
              "    </tr>\n",
              "    <tr>\n",
              "      <th>4</th>\n",
              "      <td>24.59</td>\n",
              "      <td>3.61</td>\n",
              "      <td>Female</td>\n",
              "      <td>No</td>\n",
              "      <td>Sun</td>\n",
              "      <td>Dinner</td>\n",
              "      <td>4</td>\n",
              "    </tr>\n",
              "  </tbody>\n",
              "</table>\n",
              "</div>\n",
              "      <button class=\"colab-df-convert\" onclick=\"convertToInteractive('df-8143e0ad-21d4-49e9-88ca-5924cb955998')\"\n",
              "              title=\"Convert this dataframe to an interactive table.\"\n",
              "              style=\"display:none;\">\n",
              "        \n",
              "  <svg xmlns=\"http://www.w3.org/2000/svg\" height=\"24px\"viewBox=\"0 0 24 24\"\n",
              "       width=\"24px\">\n",
              "    <path d=\"M0 0h24v24H0V0z\" fill=\"none\"/>\n",
              "    <path d=\"M18.56 5.44l.94 2.06.94-2.06 2.06-.94-2.06-.94-.94-2.06-.94 2.06-2.06.94zm-11 1L8.5 8.5l.94-2.06 2.06-.94-2.06-.94L8.5 2.5l-.94 2.06-2.06.94zm10 10l.94 2.06.94-2.06 2.06-.94-2.06-.94-.94-2.06-.94 2.06-2.06.94z\"/><path d=\"M17.41 7.96l-1.37-1.37c-.4-.4-.92-.59-1.43-.59-.52 0-1.04.2-1.43.59L10.3 9.45l-7.72 7.72c-.78.78-.78 2.05 0 2.83L4 21.41c.39.39.9.59 1.41.59.51 0 1.02-.2 1.41-.59l7.78-7.78 2.81-2.81c.8-.78.8-2.07 0-2.86zM5.41 20L4 18.59l7.72-7.72 1.47 1.35L5.41 20z\"/>\n",
              "  </svg>\n",
              "      </button>\n",
              "      \n",
              "  <style>\n",
              "    .colab-df-container {\n",
              "      display:flex;\n",
              "      flex-wrap:wrap;\n",
              "      gap: 12px;\n",
              "    }\n",
              "\n",
              "    .colab-df-convert {\n",
              "      background-color: #E8F0FE;\n",
              "      border: none;\n",
              "      border-radius: 50%;\n",
              "      cursor: pointer;\n",
              "      display: none;\n",
              "      fill: #1967D2;\n",
              "      height: 32px;\n",
              "      padding: 0 0 0 0;\n",
              "      width: 32px;\n",
              "    }\n",
              "\n",
              "    .colab-df-convert:hover {\n",
              "      background-color: #E2EBFA;\n",
              "      box-shadow: 0px 1px 2px rgba(60, 64, 67, 0.3), 0px 1px 3px 1px rgba(60, 64, 67, 0.15);\n",
              "      fill: #174EA6;\n",
              "    }\n",
              "\n",
              "    [theme=dark] .colab-df-convert {\n",
              "      background-color: #3B4455;\n",
              "      fill: #D2E3FC;\n",
              "    }\n",
              "\n",
              "    [theme=dark] .colab-df-convert:hover {\n",
              "      background-color: #434B5C;\n",
              "      box-shadow: 0px 1px 3px 1px rgba(0, 0, 0, 0.15);\n",
              "      filter: drop-shadow(0px 1px 2px rgba(0, 0, 0, 0.3));\n",
              "      fill: #FFFFFF;\n",
              "    }\n",
              "  </style>\n",
              "\n",
              "      <script>\n",
              "        const buttonEl =\n",
              "          document.querySelector('#df-8143e0ad-21d4-49e9-88ca-5924cb955998 button.colab-df-convert');\n",
              "        buttonEl.style.display =\n",
              "          google.colab.kernel.accessAllowed ? 'block' : 'none';\n",
              "\n",
              "        async function convertToInteractive(key) {\n",
              "          const element = document.querySelector('#df-8143e0ad-21d4-49e9-88ca-5924cb955998');\n",
              "          const dataTable =\n",
              "            await google.colab.kernel.invokeFunction('convertToInteractive',\n",
              "                                                     [key], {});\n",
              "          if (!dataTable) return;\n",
              "\n",
              "          const docLinkHtml = 'Like what you see? Visit the ' +\n",
              "            '<a target=\"_blank\" href=https://colab.research.google.com/notebooks/data_table.ipynb>data table notebook</a>'\n",
              "            + ' to learn more about interactive tables.';\n",
              "          element.innerHTML = '';\n",
              "          dataTable['output_type'] = 'display_data';\n",
              "          await google.colab.output.renderOutput(dataTable, element);\n",
              "          const docLink = document.createElement('div');\n",
              "          docLink.innerHTML = docLinkHtml;\n",
              "          element.appendChild(docLink);\n",
              "        }\n",
              "      </script>\n",
              "    </div>\n",
              "  </div>\n",
              "  "
            ]
          },
          "metadata": {},
          "execution_count": 9
        }
      ]
    },
    {
      "cell_type": "code",
      "source": [
        "#vamos calcular a frequencia relativa de homens e mulheres no restaurante\n",
        "count_freq = data['sex'].value_counts()\n",
        "\n",
        "#transformando em um dataframe\n",
        "df = pd.DataFrame(count_freq)\n",
        "\n",
        "#freq relativa:\n",
        "col_freq = df.sex/df.sex.sum() *100\n",
        "\n",
        "df['freq_rel'] = col_freq"
      ],
      "metadata": {
        "id": "Y4hbl1pPbZF6"
      },
      "execution_count": 10,
      "outputs": []
    },
    {
      "cell_type": "code",
      "source": [
        "df.loc['total'] = df.sex.sum(), df.freq_rel.sum()\n",
        "df"
      ],
      "metadata": {
        "colab": {
          "base_uri": "https://localhost:8080/",
          "height": 143
        },
        "id": "dWrktOzygyLL",
        "outputId": "1fff7eb7-7e14-4db2-91dd-0a51f7b7d3a7"
      },
      "execution_count": 11,
      "outputs": [
        {
          "output_type": "execute_result",
          "data": {
            "text/plain": [
              "          sex    freq_rel\n",
              "Male    157.0   64.344262\n",
              "Female   87.0   35.655738\n",
              "total   244.0  100.000000"
            ],
            "text/html": [
              "\n",
              "  <div id=\"df-1c4e176a-fc1f-4147-9bd4-feb2cd4d8031\">\n",
              "    <div class=\"colab-df-container\">\n",
              "      <div>\n",
              "<style scoped>\n",
              "    .dataframe tbody tr th:only-of-type {\n",
              "        vertical-align: middle;\n",
              "    }\n",
              "\n",
              "    .dataframe tbody tr th {\n",
              "        vertical-align: top;\n",
              "    }\n",
              "\n",
              "    .dataframe thead th {\n",
              "        text-align: right;\n",
              "    }\n",
              "</style>\n",
              "<table border=\"1\" class=\"dataframe\">\n",
              "  <thead>\n",
              "    <tr style=\"text-align: right;\">\n",
              "      <th></th>\n",
              "      <th>sex</th>\n",
              "      <th>freq_rel</th>\n",
              "    </tr>\n",
              "  </thead>\n",
              "  <tbody>\n",
              "    <tr>\n",
              "      <th>Male</th>\n",
              "      <td>157.0</td>\n",
              "      <td>64.344262</td>\n",
              "    </tr>\n",
              "    <tr>\n",
              "      <th>Female</th>\n",
              "      <td>87.0</td>\n",
              "      <td>35.655738</td>\n",
              "    </tr>\n",
              "    <tr>\n",
              "      <th>total</th>\n",
              "      <td>244.0</td>\n",
              "      <td>100.000000</td>\n",
              "    </tr>\n",
              "  </tbody>\n",
              "</table>\n",
              "</div>\n",
              "      <button class=\"colab-df-convert\" onclick=\"convertToInteractive('df-1c4e176a-fc1f-4147-9bd4-feb2cd4d8031')\"\n",
              "              title=\"Convert this dataframe to an interactive table.\"\n",
              "              style=\"display:none;\">\n",
              "        \n",
              "  <svg xmlns=\"http://www.w3.org/2000/svg\" height=\"24px\"viewBox=\"0 0 24 24\"\n",
              "       width=\"24px\">\n",
              "    <path d=\"M0 0h24v24H0V0z\" fill=\"none\"/>\n",
              "    <path d=\"M18.56 5.44l.94 2.06.94-2.06 2.06-.94-2.06-.94-.94-2.06-.94 2.06-2.06.94zm-11 1L8.5 8.5l.94-2.06 2.06-.94-2.06-.94L8.5 2.5l-.94 2.06-2.06.94zm10 10l.94 2.06.94-2.06 2.06-.94-2.06-.94-.94-2.06-.94 2.06-2.06.94z\"/><path d=\"M17.41 7.96l-1.37-1.37c-.4-.4-.92-.59-1.43-.59-.52 0-1.04.2-1.43.59L10.3 9.45l-7.72 7.72c-.78.78-.78 2.05 0 2.83L4 21.41c.39.39.9.59 1.41.59.51 0 1.02-.2 1.41-.59l7.78-7.78 2.81-2.81c.8-.78.8-2.07 0-2.86zM5.41 20L4 18.59l7.72-7.72 1.47 1.35L5.41 20z\"/>\n",
              "  </svg>\n",
              "      </button>\n",
              "      \n",
              "  <style>\n",
              "    .colab-df-container {\n",
              "      display:flex;\n",
              "      flex-wrap:wrap;\n",
              "      gap: 12px;\n",
              "    }\n",
              "\n",
              "    .colab-df-convert {\n",
              "      background-color: #E8F0FE;\n",
              "      border: none;\n",
              "      border-radius: 50%;\n",
              "      cursor: pointer;\n",
              "      display: none;\n",
              "      fill: #1967D2;\n",
              "      height: 32px;\n",
              "      padding: 0 0 0 0;\n",
              "      width: 32px;\n",
              "    }\n",
              "\n",
              "    .colab-df-convert:hover {\n",
              "      background-color: #E2EBFA;\n",
              "      box-shadow: 0px 1px 2px rgba(60, 64, 67, 0.3), 0px 1px 3px 1px rgba(60, 64, 67, 0.15);\n",
              "      fill: #174EA6;\n",
              "    }\n",
              "\n",
              "    [theme=dark] .colab-df-convert {\n",
              "      background-color: #3B4455;\n",
              "      fill: #D2E3FC;\n",
              "    }\n",
              "\n",
              "    [theme=dark] .colab-df-convert:hover {\n",
              "      background-color: #434B5C;\n",
              "      box-shadow: 0px 1px 3px 1px rgba(0, 0, 0, 0.15);\n",
              "      filter: drop-shadow(0px 1px 2px rgba(0, 0, 0, 0.3));\n",
              "      fill: #FFFFFF;\n",
              "    }\n",
              "  </style>\n",
              "\n",
              "      <script>\n",
              "        const buttonEl =\n",
              "          document.querySelector('#df-1c4e176a-fc1f-4147-9bd4-feb2cd4d8031 button.colab-df-convert');\n",
              "        buttonEl.style.display =\n",
              "          google.colab.kernel.accessAllowed ? 'block' : 'none';\n",
              "\n",
              "        async function convertToInteractive(key) {\n",
              "          const element = document.querySelector('#df-1c4e176a-fc1f-4147-9bd4-feb2cd4d8031');\n",
              "          const dataTable =\n",
              "            await google.colab.kernel.invokeFunction('convertToInteractive',\n",
              "                                                     [key], {});\n",
              "          if (!dataTable) return;\n",
              "\n",
              "          const docLinkHtml = 'Like what you see? Visit the ' +\n",
              "            '<a target=\"_blank\" href=https://colab.research.google.com/notebooks/data_table.ipynb>data table notebook</a>'\n",
              "            + ' to learn more about interactive tables.';\n",
              "          element.innerHTML = '';\n",
              "          dataTable['output_type'] = 'display_data';\n",
              "          await google.colab.output.renderOutput(dataTable, element);\n",
              "          const docLink = document.createElement('div');\n",
              "          docLink.innerHTML = docLinkHtml;\n",
              "          element.appendChild(docLink);\n",
              "        }\n",
              "      </script>\n",
              "    </div>\n",
              "  </div>\n",
              "  "
            ]
          },
          "metadata": {},
          "execution_count": 11
        }
      ]
    },
    {
      "cell_type": "markdown",
      "source": [
        "podemos visualizar que 64% das pessoas que vão ao restaurante são homens, logo por isso talvez o valor da conta dos homens é maior já o número de mulheres que vão a esse restaurante são 35%."
      ],
      "metadata": {
        "id": "yNXO-eJLinlh"
      }
    },
    {
      "cell_type": "markdown",
      "source": [
        "### 2.Histogramas de Frequência:\n",
        "\n",
        "Histogramas de frequência nos permitem, realizar a contagem de cada elemento dentro de uma amostra, ou então em uma variável quantitativas dividida em intervalos segmentados.\n",
        "\n",
        "Vamos aos códigos:\n",
        "\n"
      ],
      "metadata": {
        "id": "I0ZEUW3PkFWE"
      }
    },
    {
      "cell_type": "code",
      "source": [
        "#importando bibliotecas:\n",
        "import pandas as pd\n",
        "import seaborn as sns\n",
        "import matplotlib.pyplot as plt\n",
        "\n",
        "#realizando o load de um dataset da seaborn\n",
        "data = sns.load_dataset('tips')\n",
        "\n",
        "#visualizando e inspecionando o dataset\n",
        "type(data)\n",
        "\n",
        "data.head()"
      ],
      "metadata": {
        "colab": {
          "base_uri": "https://localhost:8080/",
          "height": 206
        },
        "id": "r6Td4CRdkJj0",
        "outputId": "30576d9a-37ec-4ede-b87b-f91f81c00f34"
      },
      "execution_count": 12,
      "outputs": [
        {
          "output_type": "execute_result",
          "data": {
            "text/plain": [
              "   total_bill   tip     sex smoker  day    time  size\n",
              "0       16.99  1.01  Female     No  Sun  Dinner     2\n",
              "1       10.34  1.66    Male     No  Sun  Dinner     3\n",
              "2       21.01  3.50    Male     No  Sun  Dinner     3\n",
              "3       23.68  3.31    Male     No  Sun  Dinner     2\n",
              "4       24.59  3.61  Female     No  Sun  Dinner     4"
            ],
            "text/html": [
              "\n",
              "  <div id=\"df-e8108ade-68fd-4a37-b863-09679b38043a\">\n",
              "    <div class=\"colab-df-container\">\n",
              "      <div>\n",
              "<style scoped>\n",
              "    .dataframe tbody tr th:only-of-type {\n",
              "        vertical-align: middle;\n",
              "    }\n",
              "\n",
              "    .dataframe tbody tr th {\n",
              "        vertical-align: top;\n",
              "    }\n",
              "\n",
              "    .dataframe thead th {\n",
              "        text-align: right;\n",
              "    }\n",
              "</style>\n",
              "<table border=\"1\" class=\"dataframe\">\n",
              "  <thead>\n",
              "    <tr style=\"text-align: right;\">\n",
              "      <th></th>\n",
              "      <th>total_bill</th>\n",
              "      <th>tip</th>\n",
              "      <th>sex</th>\n",
              "      <th>smoker</th>\n",
              "      <th>day</th>\n",
              "      <th>time</th>\n",
              "      <th>size</th>\n",
              "    </tr>\n",
              "  </thead>\n",
              "  <tbody>\n",
              "    <tr>\n",
              "      <th>0</th>\n",
              "      <td>16.99</td>\n",
              "      <td>1.01</td>\n",
              "      <td>Female</td>\n",
              "      <td>No</td>\n",
              "      <td>Sun</td>\n",
              "      <td>Dinner</td>\n",
              "      <td>2</td>\n",
              "    </tr>\n",
              "    <tr>\n",
              "      <th>1</th>\n",
              "      <td>10.34</td>\n",
              "      <td>1.66</td>\n",
              "      <td>Male</td>\n",
              "      <td>No</td>\n",
              "      <td>Sun</td>\n",
              "      <td>Dinner</td>\n",
              "      <td>3</td>\n",
              "    </tr>\n",
              "    <tr>\n",
              "      <th>2</th>\n",
              "      <td>21.01</td>\n",
              "      <td>3.50</td>\n",
              "      <td>Male</td>\n",
              "      <td>No</td>\n",
              "      <td>Sun</td>\n",
              "      <td>Dinner</td>\n",
              "      <td>3</td>\n",
              "    </tr>\n",
              "    <tr>\n",
              "      <th>3</th>\n",
              "      <td>23.68</td>\n",
              "      <td>3.31</td>\n",
              "      <td>Male</td>\n",
              "      <td>No</td>\n",
              "      <td>Sun</td>\n",
              "      <td>Dinner</td>\n",
              "      <td>2</td>\n",
              "    </tr>\n",
              "    <tr>\n",
              "      <th>4</th>\n",
              "      <td>24.59</td>\n",
              "      <td>3.61</td>\n",
              "      <td>Female</td>\n",
              "      <td>No</td>\n",
              "      <td>Sun</td>\n",
              "      <td>Dinner</td>\n",
              "      <td>4</td>\n",
              "    </tr>\n",
              "  </tbody>\n",
              "</table>\n",
              "</div>\n",
              "      <button class=\"colab-df-convert\" onclick=\"convertToInteractive('df-e8108ade-68fd-4a37-b863-09679b38043a')\"\n",
              "              title=\"Convert this dataframe to an interactive table.\"\n",
              "              style=\"display:none;\">\n",
              "        \n",
              "  <svg xmlns=\"http://www.w3.org/2000/svg\" height=\"24px\"viewBox=\"0 0 24 24\"\n",
              "       width=\"24px\">\n",
              "    <path d=\"M0 0h24v24H0V0z\" fill=\"none\"/>\n",
              "    <path d=\"M18.56 5.44l.94 2.06.94-2.06 2.06-.94-2.06-.94-.94-2.06-.94 2.06-2.06.94zm-11 1L8.5 8.5l.94-2.06 2.06-.94-2.06-.94L8.5 2.5l-.94 2.06-2.06.94zm10 10l.94 2.06.94-2.06 2.06-.94-2.06-.94-.94-2.06-.94 2.06-2.06.94z\"/><path d=\"M17.41 7.96l-1.37-1.37c-.4-.4-.92-.59-1.43-.59-.52 0-1.04.2-1.43.59L10.3 9.45l-7.72 7.72c-.78.78-.78 2.05 0 2.83L4 21.41c.39.39.9.59 1.41.59.51 0 1.02-.2 1.41-.59l7.78-7.78 2.81-2.81c.8-.78.8-2.07 0-2.86zM5.41 20L4 18.59l7.72-7.72 1.47 1.35L5.41 20z\"/>\n",
              "  </svg>\n",
              "      </button>\n",
              "      \n",
              "  <style>\n",
              "    .colab-df-container {\n",
              "      display:flex;\n",
              "      flex-wrap:wrap;\n",
              "      gap: 12px;\n",
              "    }\n",
              "\n",
              "    .colab-df-convert {\n",
              "      background-color: #E8F0FE;\n",
              "      border: none;\n",
              "      border-radius: 50%;\n",
              "      cursor: pointer;\n",
              "      display: none;\n",
              "      fill: #1967D2;\n",
              "      height: 32px;\n",
              "      padding: 0 0 0 0;\n",
              "      width: 32px;\n",
              "    }\n",
              "\n",
              "    .colab-df-convert:hover {\n",
              "      background-color: #E2EBFA;\n",
              "      box-shadow: 0px 1px 2px rgba(60, 64, 67, 0.3), 0px 1px 3px 1px rgba(60, 64, 67, 0.15);\n",
              "      fill: #174EA6;\n",
              "    }\n",
              "\n",
              "    [theme=dark] .colab-df-convert {\n",
              "      background-color: #3B4455;\n",
              "      fill: #D2E3FC;\n",
              "    }\n",
              "\n",
              "    [theme=dark] .colab-df-convert:hover {\n",
              "      background-color: #434B5C;\n",
              "      box-shadow: 0px 1px 3px 1px rgba(0, 0, 0, 0.15);\n",
              "      filter: drop-shadow(0px 1px 2px rgba(0, 0, 0, 0.3));\n",
              "      fill: #FFFFFF;\n",
              "    }\n",
              "  </style>\n",
              "\n",
              "      <script>\n",
              "        const buttonEl =\n",
              "          document.querySelector('#df-e8108ade-68fd-4a37-b863-09679b38043a button.colab-df-convert');\n",
              "        buttonEl.style.display =\n",
              "          google.colab.kernel.accessAllowed ? 'block' : 'none';\n",
              "\n",
              "        async function convertToInteractive(key) {\n",
              "          const element = document.querySelector('#df-e8108ade-68fd-4a37-b863-09679b38043a');\n",
              "          const dataTable =\n",
              "            await google.colab.kernel.invokeFunction('convertToInteractive',\n",
              "                                                     [key], {});\n",
              "          if (!dataTable) return;\n",
              "\n",
              "          const docLinkHtml = 'Like what you see? Visit the ' +\n",
              "            '<a target=\"_blank\" href=https://colab.research.google.com/notebooks/data_table.ipynb>data table notebook</a>'\n",
              "            + ' to learn more about interactive tables.';\n",
              "          element.innerHTML = '';\n",
              "          dataTable['output_type'] = 'display_data';\n",
              "          await google.colab.output.renderOutput(dataTable, element);\n",
              "          const docLink = document.createElement('div');\n",
              "          docLink.innerHTML = docLinkHtml;\n",
              "          element.appendChild(docLink);\n",
              "        }\n",
              "      </script>\n",
              "    </div>\n",
              "  </div>\n",
              "  "
            ]
          },
          "metadata": {},
          "execution_count": 12
        }
      ]
    },
    {
      "cell_type": "code",
      "source": [
        "#vamos verificar o histograma de totall_bill\n",
        "sns.histplot(data=data, x=\"total_bill\", bins = 30, kde = True);"
      ],
      "metadata": {
        "colab": {
          "base_uri": "https://localhost:8080/",
          "height": 280
        },
        "id": "QiOFNOqJkn0c",
        "outputId": "216aa4cf-8b0a-47c2-907f-73bd8952f3e4"
      },
      "execution_count": 13,
      "outputs": [
        {
          "output_type": "display_data",
          "data": {
            "text/plain": [
              "<Figure size 432x288 with 1 Axes>"
            ],
            "image/png": "[encoded data removed]"
          },
          "metadata": {
            "needs_background": "light"
          }
        }
      ]
    },
    {
      "cell_type": "markdown",
      "source": [
        "### 3.Mapas de Calor:\n",
        "\n",
        "Também podemos verificar a frequência entre duas variáveis com mapas de calor dessa forma os pontos em que estão mais escuros são onde temos menos frequência de determinado evento.\n"
      ],
      "metadata": {
        "id": "5A4K-xZ4mc0W"
      }
    },
    {
      "cell_type": "code",
      "source": [
        "# vamos visualizar aqui:\n",
        "flights = sns.load_dataset(\"flights\")\n",
        "flights = flights.pivot(\"month\", \"year\", \"passengers\")\n",
        "\n",
        "#plot mapa de calor:\n",
        "ax = sns.heatmap(flights,fmt=\"d\")"
      ],
      "metadata": {
        "colab": {
          "base_uri": "https://localhost:8080/",
          "height": 295
        },
        "id": "iTbk3qJOk-qU",
        "outputId": "165ceca8-c92f-4a0a-abf1-7fd1cc961338"
      },
      "execution_count": 14,
      "outputs": [
        {
          "output_type": "display_data",
          "data": {
            "text/plain": [
              "<Figure size 432x288 with 2 Axes>"
            ],
            "image/png": "[encoded data removed]"
          },
          "metadata": {
            "needs_background": "light"
          }
        }
      ]
    },
    {
      "cell_type": "markdown",
      "source": [
        "A partir deste gráfico observamos que os meses de junho e julho possuem maior propensão a terem viajantes e que da passagem de 1956 para 1957 obtivemos um maior número de viajantes por ano."
      ],
      "metadata": {
        "id": "kYFxCwOVnFHP"
      }
    },
    {
      "cell_type": "markdown",
      "source": [
        "____\n",
        "## Medidas de Posição:\n",
        "\n",
        "Medidas de posição nos permitem resumir os dados com base em valores que representam toda a serie de amostras apresentada, vamos abordar aqui:\n",
        "\n",
        "- Moda\n",
        "- Mediana\n",
        "- Media Aritmética\n",
        "\n",
        "Agora vamos as definições:\n",
        "\n",
        "__1.Moda:__\n",
        "\n",
        "A moda é definida como a realização mais freqüente do conjunto de valores observados, podemos ter casos em que a amostra seja bimodal, trimodal etc.\n",
        "\n",
        "__2.Mediana:__\n",
        "\n",
        "A mediana é a realização que ocupa a posição central da série de observações, quando\n",
        "estão ordenadas em ordem crescente. Assim, se as cinco observações de uma variável forem\n",
        "3, 4, 7, 8 e 8, a mediana é o valor 7, correspondendo à terceira observação. Quando o\n",
        "número de observações for par, usa-se como mediana a média aritmética das duas observa ções centrais. Acrescentando-se o valor 9 à série acima, a mediana será (7 + 8)/2 = 7\n",
        "\n",
        "__3.Média Aritmética:__\n",
        "\n",
        "A média é nada mais que a soma total dividido pelo numero de casos, como demostra a equacao abaixo:\n",
        "\n",
        "$\\textbf{x}_m = \\frac{\\sum_{i=1}^{n} x_i}{n}$\n"
      ],
      "metadata": {
        "id": "2_OCRU8pn2Gi"
      }
    },
    {
      "cell_type": "markdown",
      "source": [
        "\n",
        "Para realizarmos estas operações no python vamos precisar visualizar alguns pacotes fundamentais para estatistica, estes são:\n",
        "\n",
        "Numpy:\n",
        "https://numpy.org/\n",
        "\n",
        "Scipy:\n",
        "https://scipy.org/\n",
        "\n",
        "Statistics:\n",
        "https://docs.python.org/3/library/statistics.html"
      ],
      "metadata": {
        "id": "-9f76uSCrDxo"
      }
    },
    {
      "cell_type": "code",
      "source": [
        "#load dataset\n",
        "data = sns.load_dataset(\"tips\")\n",
        "\n",
        "#visualizando\n",
        "data.head()"
      ],
      "metadata": {
        "colab": {
          "base_uri": "https://localhost:8080/",
          "height": 206
        },
        "id": "l1xS877uqk-x",
        "outputId": "95cbcf9e-668c-45d7-c032-f8dd8cf1971e"
      },
      "execution_count": 15,
      "outputs": [
        {
          "output_type": "execute_result",
          "data": {
            "text/plain": [
              "   total_bill   tip     sex smoker  day    time  size\n",
              "0       16.99  1.01  Female     No  Sun  Dinner     2\n",
              "1       10.34  1.66    Male     No  Sun  Dinner     3\n",
              "2       21.01  3.50    Male     No  Sun  Dinner     3\n",
              "3       23.68  3.31    Male     No  Sun  Dinner     2\n",
              "4       24.59  3.61  Female     No  Sun  Dinner     4"
            ],
            "text/html": [
              "\n",
              "  <div id=\"df-9985b8c4-226d-4fa0-bdd1-fb233d67dc3c\">\n",
              "    <div class=\"colab-df-container\">\n",
              "      <div>\n",
              "<style scoped>\n",
              "    .dataframe tbody tr th:only-of-type {\n",
              "        vertical-align: middle;\n",
              "    }\n",
              "\n",
              "    .dataframe tbody tr th {\n",
              "        vertical-align: top;\n",
              "    }\n",
              "\n",
              "    .dataframe thead th {\n",
              "        text-align: right;\n",
              "    }\n",
              "</style>\n",
              "<table border=\"1\" class=\"dataframe\">\n",
              "  <thead>\n",
              "    <tr style=\"text-align: right;\">\n",
              "      <th></th>\n",
              "      <th>total_bill</th>\n",
              "      <th>tip</th>\n",
              "      <th>sex</th>\n",
              "      <th>smoker</th>\n",
              "      <th>day</th>\n",
              "      <th>time</th>\n",
              "      <th>size</th>\n",
              "    </tr>\n",
              "  </thead>\n",
              "  <tbody>\n",
              "    <tr>\n",
              "      <th>0</th>\n",
              "      <td>16.99</td>\n",
              "      <td>1.01</td>\n",
              "      <td>Female</td>\n",
              "      <td>No</td>\n",
              "      <td>Sun</td>\n",
              "      <td>Dinner</td>\n",
              "      <td>2</td>\n",
              "    </tr>\n",
              "    <tr>\n",
              "      <th>1</th>\n",
              "      <td>10.34</td>\n",
              "      <td>1.66</td>\n",
              "      <td>Male</td>\n",
              "      <td>No</td>\n",
              "      <td>Sun</td>\n",
              "      <td>Dinner</td>\n",
              "      <td>3</td>\n",
              "    </tr>\n",
              "    <tr>\n",
              "      <th>2</th>\n",
              "      <td>21.01</td>\n",
              "      <td>3.50</td>\n",
              "      <td>Male</td>\n",
              "      <td>No</td>\n",
              "      <td>Sun</td>\n",
              "      <td>Dinner</td>\n",
              "      <td>3</td>\n",
              "    </tr>\n",
              "    <tr>\n",
              "      <th>3</th>\n",
              "      <td>23.68</td>\n",
              "      <td>3.31</td>\n",
              "      <td>Male</td>\n",
              "      <td>No</td>\n",
              "      <td>Sun</td>\n",
              "      <td>Dinner</td>\n",
              "      <td>2</td>\n",
              "    </tr>\n",
              "    <tr>\n",
              "      <th>4</th>\n",
              "      <td>24.59</td>\n",
              "      <td>3.61</td>\n",
              "      <td>Female</td>\n",
              "      <td>No</td>\n",
              "      <td>Sun</td>\n",
              "      <td>Dinner</td>\n",
              "      <td>4</td>\n",
              "    </tr>\n",
              "  </tbody>\n",
              "</table>\n",
              "</div>\n",
              "      <button class=\"colab-df-convert\" onclick=\"convertToInteractive('df-9985b8c4-226d-4fa0-bdd1-fb233d67dc3c')\"\n",
              "              title=\"Convert this dataframe to an interactive table.\"\n",
              "              style=\"display:none;\">\n",
              "        \n",
              "  <svg xmlns=\"http://www.w3.org/2000/svg\" height=\"24px\"viewBox=\"0 0 24 24\"\n",
              "       width=\"24px\">\n",
              "    <path d=\"M0 0h24v24H0V0z\" fill=\"none\"/>\n",
              "    <path d=\"M18.56 5.44l.94 2.06.94-2.06 2.06-.94-2.06-.94-.94-2.06-.94 2.06-2.06.94zm-11 1L8.5 8.5l.94-2.06 2.06-.94-2.06-.94L8.5 2.5l-.94 2.06-2.06.94zm10 10l.94 2.06.94-2.06 2.06-.94-2.06-.94-.94-2.06-.94 2.06-2.06.94z\"/><path d=\"M17.41 7.96l-1.37-1.37c-.4-.4-.92-.59-1.43-.59-.52 0-1.04.2-1.43.59L10.3 9.45l-7.72 7.72c-.78.78-.78 2.05 0 2.83L4 21.41c.39.39.9.59 1.41.59.51 0 1.02-.2 1.41-.59l7.78-7.78 2.81-2.81c.8-.78.8-2.07 0-2.86zM5.41 20L4 18.59l7.72-7.72 1.47 1.35L5.41 20z\"/>\n",
              "  </svg>\n",
              "      </button>\n",
              "      \n",
              "  <style>\n",
              "    .colab-df-container {\n",
              "      display:flex;\n",
              "      flex-wrap:wrap;\n",
              "      gap: 12px;\n",
              "    }\n",
              "\n",
              "    .colab-df-convert {\n",
              "      background-color: #E8F0FE;\n",
              "      border: none;\n",
              "      border-radius: 50%;\n",
              "      cursor: pointer;\n",
              "      display: none;\n",
              "      fill: #1967D2;\n",
              "      height: 32px;\n",
              "      padding: 0 0 0 0;\n",
              "      width: 32px;\n",
              "    }\n",
              "\n",
              "    .colab-df-convert:hover {\n",
              "      background-color: #E2EBFA;\n",
              "      box-shadow: 0px 1px 2px rgba(60, 64, 67, 0.3), 0px 1px 3px 1px rgba(60, 64, 67, 0.15);\n",
              "      fill: #174EA6;\n",
              "    }\n",
              "\n",
              "    [theme=dark] .colab-df-convert {\n",
              "      background-color: #3B4455;\n",
              "      fill: #D2E3FC;\n",
              "    }\n",
              "\n",
              "    [theme=dark] .colab-df-convert:hover {\n",
              "      background-color: #434B5C;\n",
              "      box-shadow: 0px 1px 3px 1px rgba(0, 0, 0, 0.15);\n",
              "      filter: drop-shadow(0px 1px 2px rgba(0, 0, 0, 0.3));\n",
              "      fill: #FFFFFF;\n",
              "    }\n",
              "  </style>\n",
              "\n",
              "      <script>\n",
              "        const buttonEl =\n",
              "          document.querySelector('#df-9985b8c4-226d-4fa0-bdd1-fb233d67dc3c button.colab-df-convert');\n",
              "        buttonEl.style.display =\n",
              "          google.colab.kernel.accessAllowed ? 'block' : 'none';\n",
              "\n",
              "        async function convertToInteractive(key) {\n",
              "          const element = document.querySelector('#df-9985b8c4-226d-4fa0-bdd1-fb233d67dc3c');\n",
              "          const dataTable =\n",
              "            await google.colab.kernel.invokeFunction('convertToInteractive',\n",
              "                                                     [key], {});\n",
              "          if (!dataTable) return;\n",
              "\n",
              "          const docLinkHtml = 'Like what you see? Visit the ' +\n",
              "            '<a target=\"_blank\" href=https://colab.research.google.com/notebooks/data_table.ipynb>data table notebook</a>'\n",
              "            + ' to learn more about interactive tables.';\n",
              "          element.innerHTML = '';\n",
              "          dataTable['output_type'] = 'display_data';\n",
              "          await google.colab.output.renderOutput(dataTable, element);\n",
              "          const docLink = document.createElement('div');\n",
              "          docLink.innerHTML = docLinkHtml;\n",
              "          element.appendChild(docLink);\n",
              "        }\n",
              "      </script>\n",
              "    </div>\n",
              "  </div>\n",
              "  "
            ]
          },
          "metadata": {},
          "execution_count": 15
        }
      ]
    },
    {
      "cell_type": "markdown",
      "source": [
        "##### 1.Moda:"
      ],
      "metadata": {
        "id": "lCzGg8xkwLgc"
      }
    },
    {
      "cell_type": "code",
      "source": [
        "#calculando a Moda\n",
        "data.mode()"
      ],
      "metadata": {
        "colab": {
          "base_uri": "https://localhost:8080/",
          "height": 81
        },
        "id": "wFKwPhDFvTQ4",
        "outputId": "ca3c35f2-fdea-46fd-a2f4-4abecb52bea7"
      },
      "execution_count": 16,
      "outputs": [
        {
          "output_type": "execute_result",
          "data": {
            "text/plain": [
              "   total_bill  tip   sex smoker  day    time  size\n",
              "0       13.42  2.0  Male     No  Sat  Dinner     2"
            ],
            "text/html": [
              "\n",
              "  <div id=\"df-cc50cd21-462d-4bb6-954b-c841419e4a44\">\n",
              "    <div class=\"colab-df-container\">\n",
              "      <div>\n",
              "<style scoped>\n",
              "    .dataframe tbody tr th:only-of-type {\n",
              "        vertical-align: middle;\n",
              "    }\n",
              "\n",
              "    .dataframe tbody tr th {\n",
              "        vertical-align: top;\n",
              "    }\n",
              "\n",
              "    .dataframe thead th {\n",
              "        text-align: right;\n",
              "    }\n",
              "</style>\n",
              "<table border=\"1\" class=\"dataframe\">\n",
              "  <thead>\n",
              "    <tr style=\"text-align: right;\">\n",
              "      <th></th>\n",
              "      <th>total_bill</th>\n",
              "      <th>tip</th>\n",
              "      <th>sex</th>\n",
              "      <th>smoker</th>\n",
              "      <th>day</th>\n",
              "      <th>time</th>\n",
              "      <th>size</th>\n",
              "    </tr>\n",
              "  </thead>\n",
              "  <tbody>\n",
              "    <tr>\n",
              "      <th>0</th>\n",
              "      <td>13.42</td>\n",
              "      <td>2.0</td>\n",
              "      <td>Male</td>\n",
              "      <td>No</td>\n",
              "      <td>Sat</td>\n",
              "      <td>Dinner</td>\n",
              "      <td>2</td>\n",
              "    </tr>\n",
              "  </tbody>\n",
              "</table>\n",
              "</div>\n",
              "      <button class=\"colab-df-convert\" onclick=\"convertToInteractive('df-cc50cd21-462d-4bb6-954b-c841419e4a44')\"\n",
              "              title=\"Convert this dataframe to an interactive table.\"\n",
              "              style=\"display:none;\">\n",
              "        \n",
              "  <svg xmlns=\"http://www.w3.org/2000/svg\" height=\"24px\"viewBox=\"0 0 24 24\"\n",
              "       width=\"24px\">\n",
              "    <path d=\"M0 0h24v24H0V0z\" fill=\"none\"/>\n",
              "    <path d=\"M18.56 5.44l.94 2.06.94-2.06 2.06-.94-2.06-.94-.94-2.06-.94 2.06-2.06.94zm-11 1L8.5 8.5l.94-2.06 2.06-.94-2.06-.94L8.5 2.5l-.94 2.06-2.06.94zm10 10l.94 2.06.94-2.06 2.06-.94-2.06-.94-.94-2.06-.94 2.06-2.06.94z\"/><path d=\"M17.41 7.96l-1.37-1.37c-.4-.4-.92-.59-1.43-.59-.52 0-1.04.2-1.43.59L10.3 9.45l-7.72 7.72c-.78.78-.78 2.05 0 2.83L4 21.41c.39.39.9.59 1.41.59.51 0 1.02-.2 1.41-.59l7.78-7.78 2.81-2.81c.8-.78.8-2.07 0-2.86zM5.41 20L4 18.59l7.72-7.72 1.47 1.35L5.41 20z\"/>\n",
              "  </svg>\n",
              "      </button>\n",
              "      \n",
              "  <style>\n",
              "    .colab-df-container {\n",
              "      display:flex;\n",
              "      flex-wrap:wrap;\n",
              "      gap: 12px;\n",
              "    }\n",
              "\n",
              "    .colab-df-convert {\n",
              "      background-color: #E8F0FE;\n",
              "      border: none;\n",
              "      border-radius: 50%;\n",
              "      cursor: pointer;\n",
              "      display: none;\n",
              "      fill: #1967D2;\n",
              "      height: 32px;\n",
              "      padding: 0 0 0 0;\n",
              "      width: 32px;\n",
              "    }\n",
              "\n",
              "    .colab-df-convert:hover {\n",
              "      background-color: #E2EBFA;\n",
              "      box-shadow: 0px 1px 2px rgba(60, 64, 67, 0.3), 0px 1px 3px 1px rgba(60, 64, 67, 0.15);\n",
              "      fill: #174EA6;\n",
              "    }\n",
              "\n",
              "    [theme=dark] .colab-df-convert {\n",
              "      background-color: #3B4455;\n",
              "      fill: #D2E3FC;\n",
              "    }\n",
              "\n",
              "    [theme=dark] .colab-df-convert:hover {\n",
              "      background-color: #434B5C;\n",
              "      box-shadow: 0px 1px 3px 1px rgba(0, 0, 0, 0.15);\n",
              "      filter: drop-shadow(0px 1px 2px rgba(0, 0, 0, 0.3));\n",
              "      fill: #FFFFFF;\n",
              "    }\n",
              "  </style>\n",
              "\n",
              "      <script>\n",
              "        const buttonEl =\n",
              "          document.querySelector('#df-cc50cd21-462d-4bb6-954b-c841419e4a44 button.colab-df-convert');\n",
              "        buttonEl.style.display =\n",
              "          google.colab.kernel.accessAllowed ? 'block' : 'none';\n",
              "\n",
              "        async function convertToInteractive(key) {\n",
              "          const element = document.querySelector('#df-cc50cd21-462d-4bb6-954b-c841419e4a44');\n",
              "          const dataTable =\n",
              "            await google.colab.kernel.invokeFunction('convertToInteractive',\n",
              "                                                     [key], {});\n",
              "          if (!dataTable) return;\n",
              "\n",
              "          const docLinkHtml = 'Like what you see? Visit the ' +\n",
              "            '<a target=\"_blank\" href=https://colab.research.google.com/notebooks/data_table.ipynb>data table notebook</a>'\n",
              "            + ' to learn more about interactive tables.';\n",
              "          element.innerHTML = '';\n",
              "          dataTable['output_type'] = 'display_data';\n",
              "          await google.colab.output.renderOutput(dataTable, element);\n",
              "          const docLink = document.createElement('div');\n",
              "          docLink.innerHTML = docLinkHtml;\n",
              "          element.appendChild(docLink);\n",
              "        }\n",
              "      </script>\n",
              "    </div>\n",
              "  </div>\n",
              "  "
            ]
          },
          "metadata": {},
          "execution_count": 16
        }
      ]
    },
    {
      "cell_type": "markdown",
      "source": [
        "##### 2.Mediana:"
      ],
      "metadata": {
        "id": "3ZLEEshswM1z"
      }
    },
    {
      "cell_type": "code",
      "source": [
        "#calculando a Mediana\n",
        "data.median()"
      ],
      "metadata": {
        "colab": {
          "base_uri": "https://localhost:8080/"
        },
        "id": "IXBq_m9FvelZ",
        "outputId": "4d93ea22-f13c-42c4-cc2d-477a1a1ecc69"
      },
      "execution_count": 17,
      "outputs": [
        {
          "output_type": "stream",
          "name": "stderr",
          "text": [
            "/usr/local/lib/python3.7/dist-packages/ipykernel_launcher.py:2: FutureWarning: Dropping of nuisance columns in DataFrame reductions (with 'numeric_only=None') is deprecated; in a future version this will raise TypeError.  Select only valid columns before calling the reduction.\n",
            "  \n"
          ]
        },
        {
          "output_type": "execute_result",
          "data": {
            "text/plain": [
              "total_bill    17.795\n",
              "tip            2.900\n",
              "size           2.000\n",
              "dtype: float64"
            ]
          },
          "metadata": {},
          "execution_count": 17
        }
      ]
    },
    {
      "cell_type": "markdown",
      "source": [
        "##### 3.Media Aritmética:"
      ],
      "metadata": {
        "id": "gnJeqKR5wO5r"
      }
    },
    {
      "cell_type": "code",
      "source": [
        "#calculando a Media Aritimetica\n",
        "data.mean()"
      ],
      "metadata": {
        "colab": {
          "base_uri": "https://localhost:8080/"
        },
        "id": "68HTLhatrA2-",
        "outputId": "294963bd-0bf3-4a83-a040-21500bd7315a"
      },
      "execution_count": 18,
      "outputs": [
        {
          "output_type": "stream",
          "name": "stderr",
          "text": [
            "/usr/local/lib/python3.7/dist-packages/ipykernel_launcher.py:2: FutureWarning: Dropping of nuisance columns in DataFrame reductions (with 'numeric_only=None') is deprecated; in a future version this will raise TypeError.  Select only valid columns before calling the reduction.\n",
            "  \n"
          ]
        },
        {
          "output_type": "execute_result",
          "data": {
            "text/plain": [
              "total_bill    19.785943\n",
              "tip            2.998279\n",
              "size           2.569672\n",
              "dtype: float64"
            ]
          },
          "metadata": {},
          "execution_count": 18
        }
      ]
    },
    {
      "cell_type": "markdown",
      "source": [
        "___\n",
        "## Medidas de Dispersão:"
      ],
      "metadata": {
        "id": "gbv464frwZe4"
      }
    },
    {
      "cell_type": "markdown",
      "source": [
        "#### 1.Variância:\n",
        "\n",
        "A variância ($\\sigma^{2}$) é uma métrica de dispersão representada pelo quadrado do\n",
        "desvio médio dos elementos ($x_i$) de um conjunto da sua média ($\\textbf{x}_m$). É\n",
        "definida como a média da soma dos quadrados da diferença dos valores dos elementos\n",
        "de um conjunto da sua média, corrigidos por um fator amostral"
      ],
      "metadata": {
        "id": "DGUBLs3YwoWw"
      }
    },
    {
      "cell_type": "markdown",
      "source": [
        "$\\sigma^{2} = \\frac{\\sum_{i=1}^{n} (x_i-x_m)^{2}}{n-1}$"
      ],
      "metadata": {
        "id": "zp9wPhm4w69n"
      }
    },
    {
      "cell_type": "code",
      "source": [
        "#Vamos Calcular a Varianca Agora com a Biblitoeca NumPy\n",
        "\n",
        "import numpy as np\n",
        "\n",
        "np.var(data.total_bill)"
      ],
      "metadata": {
        "colab": {
          "base_uri": "https://localhost:8080/"
        },
        "id": "gluy6EWptXge",
        "outputId": "8e81899e-80a6-4236-916d-369b551945be"
      },
      "execution_count": 19,
      "outputs": [
        {
          "output_type": "execute_result",
          "data": {
            "text/plain": [
              "78.92813148851113"
            ]
          },
          "metadata": {},
          "execution_count": 19
        }
      ]
    },
    {
      "cell_type": "markdown",
      "source": [
        "#### 2.Desvio Padrão:\n",
        "\n",
        "O desvio padrão ($\\sigma$) é uma métrica de dispersão representada pela raiz quadrada\n",
        "da variância. Possuí a mesma dimensão da média.  "
      ],
      "metadata": {
        "id": "G6ePMrHbx-JR"
      }
    },
    {
      "cell_type": "markdown",
      "source": [
        "\n",
        "$\\sigma = \\sqrt{\\sigma^{2}}$"
      ],
      "metadata": {
        "id": "4kZtU6hXyfAN"
      }
    },
    {
      "cell_type": "code",
      "source": [
        "#calculando o desvio padrao:\n",
        "np.std(data.total_bill)"
      ],
      "metadata": {
        "colab": {
          "base_uri": "https://localhost:8080/"
        },
        "id": "w5PvTXXSxkFu",
        "outputId": "9afb60c9-16c0-4286-da83-936d437d8977"
      },
      "execution_count": 20,
      "outputs": [
        {
          "output_type": "execute_result",
          "data": {
            "text/plain": [
              "8.88415057777113"
            ]
          },
          "metadata": {},
          "execution_count": 20
        }
      ]
    },
    {
      "cell_type": "markdown",
      "source": [
        "____\n",
        "## Quartils Máximos e mínimos.\n",
        "\n",
        "Quartil é nada mais nada menos que o valor de corte de uma divisão dos elementos da amostra.  \n",
        "Os quartis que dividem os elementos em:  \n",
        "\n",
        "Min 25%, 50% e 75% Max .\n",
        "\n",
        "- Possuem nomes especiais: \n",
        "- Primeiro quartil.(25%)\n",
        "- Segundo quartil (mediana). (50%)\n",
        "- Terceiro quartil. (75%)\n",
        "\n",
        "Nós os utilizamos para ter uma ideia da distribuição.\n"
      ],
      "metadata": {
        "id": "5BeKZjrczEEo"
      }
    },
    {
      "cell_type": "code",
      "source": [
        "#calculando os quartils com o numpy\n",
        "\n",
        "#minimo\n",
        "min = np.min(data.total_bill)\n",
        "print('minimo: ',min)\n",
        "\n",
        "# primeiro quartil ou 25%\n",
        "q1 = np.quantile(data.total_bill, 0.25) \n",
        "print('primeiro quartil: ', q1)\n",
        "\n",
        "# segundo quartil ou 50% ou mediana\n",
        "q2 = np.quantile(data.total_bill, 0.50) \n",
        "print('segundo quartil',q2)\n",
        "\n",
        "# terceiro quartil ou 75%\n",
        "q3 = np.quantile(data.total_bill, 0.75) \n",
        "print('terceiro quartil',q3)\n",
        "\n",
        "#intervalo interquartil\n",
        "iqr = q3 - q1\n",
        "print('intervalo interquartil', iqr)\n",
        "\n",
        "#max\n",
        "max = np.max(data.total_bill)\n",
        "print('max: ',max)"
      ],
      "metadata": {
        "colab": {
          "base_uri": "https://localhost:8080/"
        },
        "id": "5n00-72kxxiJ",
        "outputId": "e7588d7a-b955-43c8-8c3c-75511ab2d155"
      },
      "execution_count": 21,
      "outputs": [
        {
          "output_type": "stream",
          "name": "stdout",
          "text": [
            "minimo:  3.07\n",
            "primeiro quartil:  13.3475\n",
            "segundo quartil 17.795\n",
            "terceiro quartil 24.127499999999998\n",
            "intervalo interquartil 10.779999999999998\n",
            "max:  50.81\n"
          ]
        }
      ]
    },
    {
      "cell_type": "code",
      "source": [
        "#agora vamso fazer isso de um jeito mais pytonico ? kkk\n",
        "\n",
        "comandos = [ np.min(data.total_bill)\n",
        "           , np.quantile(data.total_bill, 0.25)\n",
        "           , np.quantile(data.total_bill, 0.50)\n",
        "           , np.quantile(data.total_bill, 0.75)\n",
        "           , np.quantile(data.total_bill, 0.75) - np.quantile(data.total_bill, 0.25)\n",
        "           , np.max(data.total_bill)]\n",
        "\n",
        "func = list(map(lambda x:print(x), comandos))\n"
      ],
      "metadata": {
        "colab": {
          "base_uri": "https://localhost:8080/"
        },
        "id": "sd0g116n1Ebt",
        "outputId": "87b118d9-4915-4a48-ffc0-d1e81c87d593"
      },
      "execution_count": 22,
      "outputs": [
        {
          "output_type": "stream",
          "name": "stdout",
          "text": [
            "3.07\n",
            "13.3475\n",
            "17.795\n",
            "24.127499999999998\n",
            "10.779999999999998\n",
            "50.81\n"
          ]
        }
      ]
    },
    {
      "cell_type": "code",
      "source": [
        "#podemos utilizar tambem:\n",
        "data.total_bill.describe()"
      ],
      "metadata": {
        "colab": {
          "base_uri": "https://localhost:8080/"
        },
        "id": "jLFwQBAq6Ez6",
        "outputId": "7d12145b-92e7-492b-8946-4a84f41165ec"
      },
      "execution_count": 23,
      "outputs": [
        {
          "output_type": "execute_result",
          "data": {
            "text/plain": [
              "count    244.000000\n",
              "mean      19.785943\n",
              "std        8.902412\n",
              "min        3.070000\n",
              "25%       13.347500\n",
              "50%       17.795000\n",
              "75%       24.127500\n",
              "max       50.810000\n",
              "Name: total_bill, dtype: float64"
            ]
          },
          "metadata": {},
          "execution_count": 23
        }
      ]
    },
    {
      "cell_type": "markdown",
      "source": [
        "### 1.BoxPlot e Outliers:\n",
        "\n",
        "BoxPlot é uma representação gráfica de uma distribuição de frequência que nos permite visualizar melhor os __outliers__ de uma distribuicao, sobre os boxplots, temos as seguintes características:\n",
        "\n",
        "dq -> Distância interquartil \n",
        "\n",
        "acima de abaixo de 1.5 a partir de dq, possuímos o que chamados de __outliers__\n",
        "que nada mais são que fatores extremos a distribuição:"
      ],
      "metadata": {
        "id": "BYxVfJ2a4szf"
      }
    },
    {
      "cell_type": "markdown",
      "source": [
        "![boxplot2.PNG](data:image/png;base64,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)"
      ],
      "metadata": {
        "id": "uzqFagty5Xg0"
      }
    },
    {
      "cell_type": "code",
      "source": [
        "#vamos visualizar um boxplot  \n",
        "\n",
        "graph = sns.boxplot(y=data.total_bill)"
      ],
      "metadata": {
        "colab": {
          "base_uri": "https://localhost:8080/",
          "height": 252
        },
        "id": "SHPKEMeM3HY2",
        "outputId": "236744b7-f875-4ae5-99a7-6a3fd99bdbe7"
      },
      "execution_count": 24,
      "outputs": [
        {
          "output_type": "display_data",
          "data": {
            "text/plain": [
              "<Figure size 432x288 with 1 Axes>"
            ],
            "image/png": "[encoded data removed]"
          },
          "metadata": {
            "needs_background": "light"
          }
        }
      ]
    },
    {
      "cell_type": "markdown",
      "source": [
        "## Gráficos de simetria. (QQ plot)\n",
        "\n",
        "Graficos de sismetria nos permitem visulizar a normalidade de uma feature comparando-a com uma distribuição normal esse tipo de gráfico também é muito utilizado na avaliação de modelos de machine learing.\n",
        "\n",
        "Vamos utilziar a biblitoeca statsmodels, para visualizar este tipo de grafico:\n",
        "\n",
        "link para a biblioteca:\n",
        "\n",
        "https://www.statsmodels.org/stable/index.html"
      ],
      "metadata": {
        "id": "8o4U2ovoIFl4"
      }
    },
    {
      "cell_type": "code",
      "source": [
        "import numpy as np\n",
        "import statsmodels.api as sm\n",
        "import pylab as py\n",
        "  \n",
        "# np.random generates different random numbers\n",
        "# whenever the code is executed\n",
        "# Note: When you execute the same code \n",
        "# the graph look different than shown below.\n",
        "  \n",
        "# Random data points generated\n",
        "data_points = np.random.normal(0, 1, 100)    \n",
        "  \n",
        "sm.qqplot(data_points, line ='45')\n",
        "py.show()"
      ],
      "metadata": {
        "colab": {
          "base_uri": "https://localhost:8080/",
          "height": 314
        },
        "id": "ntlj0PD-7EHg",
        "outputId": "6aa5b5de-c0fc-45f5-cee9-eff2fbdd1c59"
      },
      "execution_count": 25,
      "outputs": [
        {
          "output_type": "stream",
          "name": "stderr",
          "text": [
            "/usr/local/lib/python3.7/dist-packages/statsmodels/tools/_testing.py:19: FutureWarning: pandas.util.testing is deprecated. Use the functions in the public API at pandas.testing instead.\n",
            "  import pandas.util.testing as tm\n"
          ]
        },
        {
          "output_type": "display_data",
          "data": {
            "text/plain": [
              "<Figure size 432x288 with 1 Axes>"
            ],
            "image/png": "[encoded data removed]"
          },
          "metadata": {
            "needs_background": "light"
          }
        }
      ]
    },
    {
      "cell_type": "markdown",
      "source": [
        "## Coeficiente de Correlação de Pearson:\n",
        "\n",
        "Correlação são métricas que medem a dependência estatística entre conjuntos de\n",
        "dados, correlações estas que podem ser causais ou não.\n",
        "\n",
        "Sobe o preço do dólar, sobe o preço de insumos importados, sobre o preço dos\n",
        "produtos, logo, sobe a inflação\n",
        "\n",
        "O coeficiente de correlação de Pearson ($\\textbf{r}_{xy}$) resume a correlação linear entre dois conjuntos de dados em um único número entre -1 e 1, sendo que:\n",
        "\n",
        "$\\textbf{r}_{xy} < 0 $, enquanto x cresce, y decresce;  \n",
        "$\\textbf{r}_{xy} = 0 $, não há relação entre x e y;  \n",
        "$\\textbf{r}_{xy} > 0 $, enquanto x cresce, y cresce  \n",
        "\n",
        "__Equação:__\n",
        "\n",
        "$\\textbf{r}_{xy} = \\frac{\\sum_{i=1}^{n} (x_i-x_m)(y_i-y_m)}\n",
        "{\\sqrt{\\sum_{i=1}^{n} (x_i-x_m)^{2}}\\sqrt{\\sum_{i=1}^{n} (y_i-y_m)^{2}}}$\n",
        "\n"
      ],
      "metadata": {
        "id": "meOko_6KIsuy"
      }
    },
    {
      "cell_type": "code",
      "source": [
        "#vamos caclular a correlacao entre dois fenomenos:\n",
        "\n",
        "#load biblios\n",
        "import seaborn as sns\n",
        "import matplotlib.pyplot as plt\n",
        "\n",
        "\n",
        "#load dataset\n",
        "data = sns.load_dataset('tips')\n",
        "\n",
        "#visualizando o dataset\n",
        "data.head()"
      ],
      "metadata": {
        "colab": {
          "base_uri": "https://localhost:8080/",
          "height": 206
        },
        "id": "XN4ILybUH9vJ",
        "outputId": "71890ea4-fd27-4315-d33a-3115a11baa5e"
      },
      "execution_count": 26,
      "outputs": [
        {
          "output_type": "execute_result",
          "data": {
            "text/plain": [
              "   total_bill   tip     sex smoker  day    time  size\n",
              "0       16.99  1.01  Female     No  Sun  Dinner     2\n",
              "1       10.34  1.66    Male     No  Sun  Dinner     3\n",
              "2       21.01  3.50    Male     No  Sun  Dinner     3\n",
              "3       23.68  3.31    Male     No  Sun  Dinner     2\n",
              "4       24.59  3.61  Female     No  Sun  Dinner     4"
            ],
            "text/html": [
              "\n",
              "  <div id=\"df-423c58a6-9397-46e9-b1fd-ae50374a08a7\">\n",
              "    <div class=\"colab-df-container\">\n",
              "      <div>\n",
              "<style scoped>\n",
              "    .dataframe tbody tr th:only-of-type {\n",
              "        vertical-align: middle;\n",
              "    }\n",
              "\n",
              "    .dataframe tbody tr th {\n",
              "        vertical-align: top;\n",
              "    }\n",
              "\n",
              "    .dataframe thead th {\n",
              "        text-align: right;\n",
              "    }\n",
              "</style>\n",
              "<table border=\"1\" class=\"dataframe\">\n",
              "  <thead>\n",
              "    <tr style=\"text-align: right;\">\n",
              "      <th></th>\n",
              "      <th>total_bill</th>\n",
              "      <th>tip</th>\n",
              "      <th>sex</th>\n",
              "      <th>smoker</th>\n",
              "      <th>day</th>\n",
              "      <th>time</th>\n",
              "      <th>size</th>\n",
              "    </tr>\n",
              "  </thead>\n",
              "  <tbody>\n",
              "    <tr>\n",
              "      <th>0</th>\n",
              "      <td>16.99</td>\n",
              "      <td>1.01</td>\n",
              "      <td>Female</td>\n",
              "      <td>No</td>\n",
              "      <td>Sun</td>\n",
              "      <td>Dinner</td>\n",
              "      <td>2</td>\n",
              "    </tr>\n",
              "    <tr>\n",
              "      <th>1</th>\n",
              "      <td>10.34</td>\n",
              "      <td>1.66</td>\n",
              "      <td>Male</td>\n",
              "      <td>No</td>\n",
              "      <td>Sun</td>\n",
              "      <td>Dinner</td>\n",
              "      <td>3</td>\n",
              "    </tr>\n",
              "    <tr>\n",
              "      <th>2</th>\n",
              "      <td>21.01</td>\n",
              "      <td>3.50</td>\n",
              "      <td>Male</td>\n",
              "      <td>No</td>\n",
              "      <td>Sun</td>\n",
              "      <td>Dinner</td>\n",
              "      <td>3</td>\n",
              "    </tr>\n",
              "    <tr>\n",
              "      <th>3</th>\n",
              "      <td>23.68</td>\n",
              "      <td>3.31</td>\n",
              "      <td>Male</td>\n",
              "      <td>No</td>\n",
              "      <td>Sun</td>\n",
              "      <td>Dinner</td>\n",
              "      <td>2</td>\n",
              "    </tr>\n",
              "    <tr>\n",
              "      <th>4</th>\n",
              "      <td>24.59</td>\n",
              "      <td>3.61</td>\n",
              "      <td>Female</td>\n",
              "      <td>No</td>\n",
              "      <td>Sun</td>\n",
              "      <td>Dinner</td>\n",
              "      <td>4</td>\n",
              "    </tr>\n",
              "  </tbody>\n",
              "</table>\n",
              "</div>\n",
              "      <button class=\"colab-df-convert\" onclick=\"convertToInteractive('df-423c58a6-9397-46e9-b1fd-ae50374a08a7')\"\n",
              "              title=\"Convert this dataframe to an interactive table.\"\n",
              "              style=\"display:none;\">\n",
              "        \n",
              "  <svg xmlns=\"http://www.w3.org/2000/svg\" height=\"24px\"viewBox=\"0 0 24 24\"\n",
              "       width=\"24px\">\n",
              "    <path d=\"M0 0h24v24H0V0z\" fill=\"none\"/>\n",
              "    <path d=\"M18.56 5.44l.94 2.06.94-2.06 2.06-.94-2.06-.94-.94-2.06-.94 2.06-2.06.94zm-11 1L8.5 8.5l.94-2.06 2.06-.94-2.06-.94L8.5 2.5l-.94 2.06-2.06.94zm10 10l.94 2.06.94-2.06 2.06-.94-2.06-.94-.94-2.06-.94 2.06-2.06.94z\"/><path d=\"M17.41 7.96l-1.37-1.37c-.4-.4-.92-.59-1.43-.59-.52 0-1.04.2-1.43.59L10.3 9.45l-7.72 7.72c-.78.78-.78 2.05 0 2.83L4 21.41c.39.39.9.59 1.41.59.51 0 1.02-.2 1.41-.59l7.78-7.78 2.81-2.81c.8-.78.8-2.07 0-2.86zM5.41 20L4 18.59l7.72-7.72 1.47 1.35L5.41 20z\"/>\n",
              "  </svg>\n",
              "      </button>\n",
              "      \n",
              "  <style>\n",
              "    .colab-df-container {\n",
              "      display:flex;\n",
              "      flex-wrap:wrap;\n",
              "      gap: 12px;\n",
              "    }\n",
              "\n",
              "    .colab-df-convert {\n",
              "      background-color: #E8F0FE;\n",
              "      border: none;\n",
              "      border-radius: 50%;\n",
              "      cursor: pointer;\n",
              "      display: none;\n",
              "      fill: #1967D2;\n",
              "      height: 32px;\n",
              "      padding: 0 0 0 0;\n",
              "      width: 32px;\n",
              "    }\n",
              "\n",
              "    .colab-df-convert:hover {\n",
              "      background-color: #E2EBFA;\n",
              "      box-shadow: 0px 1px 2px rgba(60, 64, 67, 0.3), 0px 1px 3px 1px rgba(60, 64, 67, 0.15);\n",
              "      fill: #174EA6;\n",
              "    }\n",
              "\n",
              "    [theme=dark] .colab-df-convert {\n",
              "      background-color: #3B4455;\n",
              "      fill: #D2E3FC;\n",
              "    }\n",
              "\n",
              "    [theme=dark] .colab-df-convert:hover {\n",
              "      background-color: #434B5C;\n",
              "      box-shadow: 0px 1px 3px 1px rgba(0, 0, 0, 0.15);\n",
              "      filter: drop-shadow(0px 1px 2px rgba(0, 0, 0, 0.3));\n",
              "      fill: #FFFFFF;\n",
              "    }\n",
              "  </style>\n",
              "\n",
              "      <script>\n",
              "        const buttonEl =\n",
              "          document.querySelector('#df-423c58a6-9397-46e9-b1fd-ae50374a08a7 button.colab-df-convert');\n",
              "        buttonEl.style.display =\n",
              "          google.colab.kernel.accessAllowed ? 'block' : 'none';\n",
              "\n",
              "        async function convertToInteractive(key) {\n",
              "          const element = document.querySelector('#df-423c58a6-9397-46e9-b1fd-ae50374a08a7');\n",
              "          const dataTable =\n",
              "            await google.colab.kernel.invokeFunction('convertToInteractive',\n",
              "                                                     [key], {});\n",
              "          if (!dataTable) return;\n",
              "\n",
              "          const docLinkHtml = 'Like what you see? Visit the ' +\n",
              "            '<a target=\"_blank\" href=https://colab.research.google.com/notebooks/data_table.ipynb>data table notebook</a>'\n",
              "            + ' to learn more about interactive tables.';\n",
              "          element.innerHTML = '';\n",
              "          dataTable['output_type'] = 'display_data';\n",
              "          await google.colab.output.renderOutput(dataTable, element);\n",
              "          const docLink = document.createElement('div');\n",
              "          docLink.innerHTML = docLinkHtml;\n",
              "          element.appendChild(docLink);\n",
              "        }\n",
              "      </script>\n",
              "    </div>\n",
              "  </div>\n",
              "  "
            ]
          },
          "metadata": {},
          "execution_count": 26
        }
      ]
    },
    {
      "cell_type": "code",
      "source": [
        "#verificando\n",
        "data[['tip','total_bill']].corr()"
      ],
      "metadata": {
        "colab": {
          "base_uri": "https://localhost:8080/",
          "height": 112
        },
        "id": "g2egyMJHX67C",
        "outputId": "8630f0e3-08ef-4d65-fa41-530d8c569e2c"
      },
      "execution_count": 27,
      "outputs": [
        {
          "output_type": "execute_result",
          "data": {
            "text/plain": [
              "                 tip  total_bill\n",
              "tip         1.000000    0.675734\n",
              "total_bill  0.675734    1.000000"
            ],
            "text/html": [
              "\n",
              "  <div id=\"df-b7ca693a-5c65-438b-8257-4c53db900ceb\">\n",
              "    <div class=\"colab-df-container\">\n",
              "      <div>\n",
              "<style scoped>\n",
              "    .dataframe tbody tr th:only-of-type {\n",
              "        vertical-align: middle;\n",
              "    }\n",
              "\n",
              "    .dataframe tbody tr th {\n",
              "        vertical-align: top;\n",
              "    }\n",
              "\n",
              "    .dataframe thead th {\n",
              "        text-align: right;\n",
              "    }\n",
              "</style>\n",
              "<table border=\"1\" class=\"dataframe\">\n",
              "  <thead>\n",
              "    <tr style=\"text-align: right;\">\n",
              "      <th></th>\n",
              "      <th>tip</th>\n",
              "      <th>total_bill</th>\n",
              "    </tr>\n",
              "  </thead>\n",
              "  <tbody>\n",
              "    <tr>\n",
              "      <th>tip</th>\n",
              "      <td>1.000000</td>\n",
              "      <td>0.675734</td>\n",
              "    </tr>\n",
              "    <tr>\n",
              "      <th>total_bill</th>\n",
              "      <td>0.675734</td>\n",
              "      <td>1.000000</td>\n",
              "    </tr>\n",
              "  </tbody>\n",
              "</table>\n",
              "</div>\n",
              "      <button class=\"colab-df-convert\" onclick=\"convertToInteractive('df-b7ca693a-5c65-438b-8257-4c53db900ceb')\"\n",
              "              title=\"Convert this dataframe to an interactive table.\"\n",
              "              style=\"display:none;\">\n",
              "        \n",
              "  <svg xmlns=\"http://www.w3.org/2000/svg\" height=\"24px\"viewBox=\"0 0 24 24\"\n",
              "       width=\"24px\">\n",
              "    <path d=\"M0 0h24v24H0V0z\" fill=\"none\"/>\n",
              "    <path d=\"M18.56 5.44l.94 2.06.94-2.06 2.06-.94-2.06-.94-.94-2.06-.94 2.06-2.06.94zm-11 1L8.5 8.5l.94-2.06 2.06-.94-2.06-.94L8.5 2.5l-.94 2.06-2.06.94zm10 10l.94 2.06.94-2.06 2.06-.94-2.06-.94-.94-2.06-.94 2.06-2.06.94z\"/><path d=\"M17.41 7.96l-1.37-1.37c-.4-.4-.92-.59-1.43-.59-.52 0-1.04.2-1.43.59L10.3 9.45l-7.72 7.72c-.78.78-.78 2.05 0 2.83L4 21.41c.39.39.9.59 1.41.59.51 0 1.02-.2 1.41-.59l7.78-7.78 2.81-2.81c.8-.78.8-2.07 0-2.86zM5.41 20L4 18.59l7.72-7.72 1.47 1.35L5.41 20z\"/>\n",
              "  </svg>\n",
              "      </button>\n",
              "      \n",
              "  <style>\n",
              "    .colab-df-container {\n",
              "      display:flex;\n",
              "      flex-wrap:wrap;\n",
              "      gap: 12px;\n",
              "    }\n",
              "\n",
              "    .colab-df-convert {\n",
              "      background-color: #E8F0FE;\n",
              "      border: none;\n",
              "      border-radius: 50%;\n",
              "      cursor: pointer;\n",
              "      display: none;\n",
              "      fill: #1967D2;\n",
              "      height: 32px;\n",
              "      padding: 0 0 0 0;\n",
              "      width: 32px;\n",
              "    }\n",
              "\n",
              "    .colab-df-convert:hover {\n",
              "      background-color: #E2EBFA;\n",
              "      box-shadow: 0px 1px 2px rgba(60, 64, 67, 0.3), 0px 1px 3px 1px rgba(60, 64, 67, 0.15);\n",
              "      fill: #174EA6;\n",
              "    }\n",
              "\n",
              "    [theme=dark] .colab-df-convert {\n",
              "      background-color: #3B4455;\n",
              "      fill: #D2E3FC;\n",
              "    }\n",
              "\n",
              "    [theme=dark] .colab-df-convert:hover {\n",
              "      background-color: #434B5C;\n",
              "      box-shadow: 0px 1px 3px 1px rgba(0, 0, 0, 0.15);\n",
              "      filter: drop-shadow(0px 1px 2px rgba(0, 0, 0, 0.3));\n",
              "      fill: #FFFFFF;\n",
              "    }\n",
              "  </style>\n",
              "\n",
              "      <script>\n",
              "        const buttonEl =\n",
              "          document.querySelector('#df-b7ca693a-5c65-438b-8257-4c53db900ceb button.colab-df-convert');\n",
              "        buttonEl.style.display =\n",
              "          google.colab.kernel.accessAllowed ? 'block' : 'none';\n",
              "\n",
              "        async function convertToInteractive(key) {\n",
              "          const element = document.querySelector('#df-b7ca693a-5c65-438b-8257-4c53db900ceb');\n",
              "          const dataTable =\n",
              "            await google.colab.kernel.invokeFunction('convertToInteractive',\n",
              "                                                     [key], {});\n",
              "          if (!dataTable) return;\n",
              "\n",
              "          const docLinkHtml = 'Like what you see? Visit the ' +\n",
              "            '<a target=\"_blank\" href=https://colab.research.google.com/notebooks/data_table.ipynb>data table notebook</a>'\n",
              "            + ' to learn more about interactive tables.';\n",
              "          element.innerHTML = '';\n",
              "          dataTable['output_type'] = 'display_data';\n",
              "          await google.colab.output.renderOutput(dataTable, element);\n",
              "          const docLink = document.createElement('div');\n",
              "          docLink.innerHTML = docLinkHtml;\n",
              "          element.appendChild(docLink);\n",
              "        }\n",
              "      </script>\n",
              "    </div>\n",
              "  </div>\n",
              "  "
            ]
          },
          "metadata": {},
          "execution_count": 27
        }
      ]
    },
    {
      "cell_type": "code",
      "source": [
        "#vamos visualizar melhor\n",
        "sns.heatmap(data[['tip','total_bill']].corr(),annot = True, cmap = 'coolwarm')"
      ],
      "metadata": {
        "colab": {
          "base_uri": "https://localhost:8080/",
          "height": 287
        },
        "id": "l_547gUxYVvk",
        "outputId": "28abb052-64e6-4228-dc59-505f6bc256c0"
      },
      "execution_count": 28,
      "outputs": [
        {
          "output_type": "execute_result",
          "data": {
            "text/plain": [
              "<matplotlib.axes._subplots.AxesSubplot at 0x7fe9039df890>"
            ]
          },
          "metadata": {},
          "execution_count": 28
        },
        {
          "output_type": "display_data",
          "data": {
            "text/plain": [
              "<Figure size 432x288 with 2 Axes>"
            ],
            "image/png": "[encoded data removed]"
          },
          "metadata": {
            "needs_background": "light"
          }
        }
      ]
    },
    {
      "cell_type": "code",
      "source": [
        "#tambem podemos visualizar graficamente\n",
        "#vamos verificar se existe correlacao entre o valor total_bill e tip(gorgeta)\n",
        "sns.scatterplot(data=data, x=\"total_bill\", y=\"tip\")"
      ],
      "metadata": {
        "colab": {
          "base_uri": "https://localhost:8080/",
          "height": 297
        },
        "id": "IJ8S6gXpYp1n",
        "outputId": "a2acf6a7-d39c-4ef3-d0f1-eef1f933411f"
      },
      "execution_count": 29,
      "outputs": [
        {
          "output_type": "execute_result",
          "data": {
            "text/plain": [
              "<matplotlib.axes._subplots.AxesSubplot at 0x7fe90392e3d0>"
            ]
          },
          "metadata": {},
          "execution_count": 29
        },
        {
          "output_type": "display_data",
          "data": {
            "text/plain": [
              "<Figure size 432x288 with 1 Axes>"
            ],
            "image/png": "[encoded data removed]"
          },
          "metadata": {
            "needs_background": "light"
          }
        }
      ]
    },
    {
      "cell_type": "code",
      "source": [
        "#visualizando \n",
        "X = data.total_bill\n",
        "y = data.tip\n",
        "\n",
        "#best fit utilizando polyfit numpy\n",
        "theta = np.polyfit(X, y, 1)\n",
        "y_line = theta[1] + theta[0] * X\n",
        "\n",
        "# Plotting the data points and the best fit line\n",
        "plt.scatter(X, y)\n",
        "plt.plot(X, y_line, 'r')\n",
        "plt.xlabel('x-axis')\n",
        "plt.ylabel('y-axis')\n",
        "plt.show()"
      ],
      "metadata": {
        "colab": {
          "base_uri": "https://localhost:8080/",
          "height": 279
        },
        "id": "6TjkLsTNU5JQ",
        "outputId": "73d61576-f71c-461a-d1ed-2f494bba0b91"
      },
      "execution_count": 30,
      "outputs": [
        {
          "output_type": "display_data",
          "data": {
            "text/plain": [
              "<Figure size 432x288 with 1 Axes>"
            ],
            "image/png": "[encoded data removed]"
          },
          "metadata": {
            "needs_background": "light"
          }
        }
      ]
    },
    {
      "cell_type": "markdown",
      "source": [
        "Este topico entra em regressao linear, que basicamente sera um dos algoritimos que iremos comentar mais a frente."
      ],
      "metadata": {
        "id": "B8kQGf2EZxbA"
      }
    }
  ]
}